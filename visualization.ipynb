{
 "cells": [
  {
   "cell_type": "code",
   "execution_count": 5,
   "outputs": [],
   "source": [
    "import pygame\n",
    "\n",
    "from pygame.locals import (\n",
    "    K_RIGHT,\n",
    "    KEYDOWN,\n",
    "    QUIT,\n",
    ")\n",
    "from taxi_service_model import TaxiService"
   ],
   "metadata": {
    "collapsed": false,
    "ExecuteTime": {
     "end_time": "2023-11-29T22:43:10.276358130Z",
     "start_time": "2023-11-29T22:43:10.233998912Z"
    }
   },
   "id": "848051e5f083bd93"
  },
  {
   "cell_type": "code",
   "execution_count": 6,
   "outputs": [],
   "source": [
    "v_corr = {}\n",
    "g = {}\n",
    "cnt = 0\n",
    "\n",
    "\n",
    "def add_line_1(line_start, line_end, position):\n",
    "    for i in range(line_start, line_end, 20):\n",
    "        v_corr[f\"{i} {position}\"] = (i, position)\n",
    "        g[f\"{i} {position}\"] = [f\"{i-20} {position}\", f\"{i} {position-20}\", f\"{i+20} {position}\", f\"{i} {position+20}\"]\n",
    "\n",
    "\n",
    "def add_line_2(line_start, line_end, position):\n",
    "    for i in range(line_start, line_end, 20):\n",
    "        v_corr[f\"{position} {i}\"] = (position, i)\n",
    "        g[f\"{position} {i}\"] = [f\"{position-20} {i}\", f\"{position} {i-20}\", f\"{position+20} {i}\", f\"{position} {i+20}\"]\n",
    "\n",
    "\n",
    "add_line_1(20, 620, 20)\n",
    "add_line_1(20, 620, 100)\n",
    "add_line_1(20, 620, 200)\n",
    "add_line_1(20, 160, 320)\n",
    "add_line_1(160, 640, 420)\n",
    "\n",
    "add_line_2(20, 320, 20)\n",
    "add_line_2(20, 420, 160)\n",
    "add_line_2(20, 420, 400)\n",
    "add_line_2(20, 420, 620)\n",
    "\n",
    "for x in g:\n",
    "    lst_to_remove = []\n",
    "    for i in range(4):\n",
    "        if g[x][i] not in g:\n",
    "            lst_to_remove.append(i)\n",
    "\n",
    "    for i in lst_to_remove[::-1]:\n",
    "        del g[x][i]"
   ],
   "metadata": {
    "collapsed": false,
    "ExecuteTime": {
     "end_time": "2023-11-29T22:43:10.585530298Z",
     "start_time": "2023-11-29T22:43:10.577917670Z"
    }
   },
   "id": "83abf3967f437782"
  },
  {
   "cell_type": "code",
   "execution_count": 7,
   "outputs": [
    {
     "ename": "KeyboardInterrupt",
     "evalue": "",
     "output_type": "error",
     "traceback": [
      "\u001B[0;31m---------------------------------------------------------------------------\u001B[0m",
      "\u001B[0;31mKeyboardInterrupt\u001B[0m                         Traceback (most recent call last)",
      "Cell \u001B[0;32mIn[7], line 42\u001B[0m\n\u001B[1;32m     39\u001B[0m pygame\u001B[38;5;241m.\u001B[39mtime\u001B[38;5;241m.\u001B[39mset_timer(timer_event, time_delay)\n\u001B[1;32m     41\u001B[0m \u001B[38;5;28;01mwhile\u001B[39;00m running:\n\u001B[0;32m---> 42\u001B[0m     \u001B[38;5;28;01mfor\u001B[39;00m event \u001B[38;5;129;01min\u001B[39;00m \u001B[43mpygame\u001B[49m\u001B[38;5;241;43m.\u001B[39;49m\u001B[43mevent\u001B[49m\u001B[38;5;241;43m.\u001B[39;49m\u001B[43mget\u001B[49m\u001B[43m(\u001B[49m\u001B[43m)\u001B[49m:\n\u001B[1;32m     43\u001B[0m         \u001B[38;5;28;01mif\u001B[39;00m event\u001B[38;5;241m.\u001B[39mtype \u001B[38;5;241m==\u001B[39m QUIT:\n\u001B[1;32m     44\u001B[0m             running \u001B[38;5;241m=\u001B[39m \u001B[38;5;28;01mFalse\u001B[39;00m\n",
      "\u001B[0;31mKeyboardInterrupt\u001B[0m: "
     ]
    }
   ],
   "source": [
    "pygame.init()\n",
    "# Parameters\n",
    "w_width = 800\n",
    "w_height = 800\n",
    "# Set up the drawing window, adjust the size\n",
    "screen = pygame.display.set_mode([w_width, w_height])\n",
    "\n",
    "# Set background\n",
    "screen.fill((255, 255, 255))\n",
    "\n",
    "ts = TaxiService(g)\n",
    "\n",
    "\n",
    "def draw(screen, v_cor):\n",
    "    block_size = 20\n",
    "\n",
    "    for i, j in v_cor.values():\n",
    "        rect = pygame.Rect(i, j, block_size - 1, block_size - 1)\n",
    "        pygame.draw.rect(screen, (210, 210, 210), rect, 0)\n",
    "\n",
    "    for taxi in ts.taxis.values():\n",
    "        i, j = v_corr[taxi.current_vertex]\n",
    "        rect = pygame.Rect(i + 7, j + 7, block_size - 15, block_size - 15)\n",
    "        pygame.draw.rect(screen, (210, 150, 10), rect, 0)\n",
    "\n",
    "    for customer in ts.customers:\n",
    "        i, j = v_corr[customer.current_vertex]\n",
    "        rect = pygame.Rect(i + 2, j + 2, block_size - 15, block_size - 15)\n",
    "        pygame.draw.rect(screen, (100, 150, 10), rect, 0)\n",
    "\n",
    "    pygame.display.flip()\n",
    "\n",
    "\n",
    "draw(screen, v_corr)\n",
    "running = True\n",
    "\n",
    "time_delay = 200  # 0.2 s\n",
    "timer_event = pygame.USEREVENT + 1\n",
    "pygame.time.set_timer(timer_event, time_delay)\n",
    "\n",
    "while running:\n",
    "    for event in pygame.event.get():\n",
    "        if event.type == QUIT:\n",
    "            running = False\n",
    "\n",
    "        if event.type == KEYDOWN:\n",
    "            if event.key == K_RIGHT:\n",
    "                ts.make_step()\n",
    "                draw(screen, v_corr)\n",
    "\n",
    "pygame.quit()"
   ],
   "metadata": {
    "collapsed": false,
    "ExecuteTime": {
     "end_time": "2023-11-29T22:43:12.921897960Z",
     "start_time": "2023-11-29T22:43:11.160819507Z"
    }
   },
   "id": "fe4e9a4f0fc6aef3"
  },
  {
   "cell_type": "code",
   "execution_count": null,
   "outputs": [],
   "source": [],
   "metadata": {
    "collapsed": false
   },
   "id": "c85ee3362b46f932"
  }
 ],
 "metadata": {
  "kernelspec": {
   "display_name": "Python 3",
   "language": "python",
   "name": "python3"
  },
  "language_info": {
   "codemirror_mode": {
    "name": "ipython",
    "version": 2
   },
   "file_extension": ".py",
   "mimetype": "text/x-python",
   "name": "python",
   "nbconvert_exporter": "python",
   "pygments_lexer": "ipython2",
   "version": "2.7.6"
  }
 },
 "nbformat": 4,
 "nbformat_minor": 5
}
