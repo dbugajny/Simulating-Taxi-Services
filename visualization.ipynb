{
 "cells": [
  {
   "cell_type": "code",
   "execution_count": 68,
   "outputs": [],
   "source": [
    "import pygame\n",
    "\n",
    "from pygame.locals import (\n",
    "    K_RIGHT,\n",
    "    KEYDOWN,\n",
    "    QUIT,\n",
    ")\n",
    "from taxi_service_model import TaxiService"
   ],
   "metadata": {
    "collapsed": false,
    "ExecuteTime": {
     "end_time": "2023-12-17T16:46:35.670146Z",
     "start_time": "2023-12-17T16:46:35.667033Z"
    }
   },
   "id": "848051e5f083bd93"
  },
  {
   "cell_type": "code",
   "execution_count": 75,
   "outputs": [],
   "source": [
    "v_corr = {}\n",
    "g = {}\n",
    "cnt = 0\n",
    "\n",
    "\n",
    "def add_line_horizontal(line_start, line_end, position, block_size=5):\n",
    "    for i in range(line_start, line_end, block_size):\n",
    "        v_corr[f\"{i} {position}\"] = (i, position)\n",
    "        g[f\"{i} {position}\"] = (\n",
    "            [\n",
    "                f\"{i-block_size} {position}\",\n",
    "                f\"{i} {position-block_size}\",\n",
    "                f\"{i+block_size} {position}\",\n",
    "                f\"{i} {position+block_size}\"\n",
    "            ]\n",
    "        )\n",
    "\n",
    "\n",
    "def add_line_vertical(line_start, line_end, position, block_size=5):\n",
    "    for i in range(line_start, line_end, block_size):\n",
    "        v_corr[f\"{position} {i}\"] = (position, i)\n",
    "        g[f\"{position} {i}\"] = (\n",
    "            [\n",
    "                f\"{position-block_size} {i}\",\n",
    "                f\"{position} {i-block_size}\",\n",
    "                f\"{position+block_size} {i}\",\n",
    "                f\"{position} {i+block_size}\"\n",
    "            ]\n",
    "        )\n"
   ],
   "metadata": {
    "collapsed": false,
    "ExecuteTime": {
     "end_time": "2023-12-17T16:48:19.805221Z",
     "start_time": "2023-12-17T16:48:19.800583Z"
    }
   },
   "id": "ff3f16e32a937c5a"
  },
  {
   "cell_type": "code",
   "execution_count": 76,
   "outputs": [],
   "source": [
    "# # Horizontal:\n",
    "add_line_horizontal(160, 325, 165)  # 262, 466 - 427, 466 \n",
    "add_line_horizontal(540, 735, 165)  # 642, 466 - 836, 466\n",
    "add_line_horizontal(160, 735, 185)  # 262, 484 - 837, 484\n",
    "add_line_horizontal(160, 735, 185)  # 262, 502 - 642, 502 \n",
    "add_line_horizontal(540, 735, 215)  # 642, 515 - 836, 515\n",
    "# add_line_horizontal(160, 835, 220)  # 262, 522 - 836, 522\n",
    "add_line_horizontal(540, 735, 240)  # 642, 543 - 836, 543\n",
    "add_line_horizontal(160, 735, 260)  # 642, 562 - 836, 562\n",
    "add_line_horizontal(160, 255, 240)  # 262, 540 - 355, 540\n",
    "add_line_horizontal(160, 255, 260)  # 262, 560 - 355, 560\n",
    "add_line_horizontal(160, 575, 280)  # 262, 580 - 675, 580\n",
    "add_line_horizontal(160, 680, 280)  # 262, 592 - 782, 592\n",
    "add_line_horizontal(160, 625, 300)  # 262, 603 - 725, 603 \n",
    "add_line_horizontal(160, 645, 315)  # 262, 613 - 745, 613\n",
    "add_line_horizontal(160, 625, 325)  # 262, 624 - 725, 624\n",
    "add_line_horizontal(160, 625, 340)  # 262, 638 - 725, 638\n",
    "add_line_horizontal(160, 625, 355)  # 262, 654 - 725, 654\n",
    "add_line_horizontal(370, 380, 230)  # 468, 530 - 479, 530"
   ],
   "metadata": {
    "collapsed": false,
    "ExecuteTime": {
     "end_time": "2023-12-17T16:48:19.966119Z",
     "start_time": "2023-12-17T16:48:19.962135Z"
    }
   },
   "id": "198aec199aaffebb"
  },
  {
   "cell_type": "code",
   "execution_count": 77,
   "outputs": [],
   "source": [
    "# Vertical:\n",
    "add_line_vertical(165, 260, 735)  # 836, 466 - 836, 562\n",
    "add_line_vertical(165, 185, 680)  # 782, 466 - 782, 484 \n",
    "add_line_vertical(215, 290, 680)  # 782, 515 - 782, 592\n",
    "add_line_vertical(165, 355, 625)  # 725, 466 - 725, 654\n",
    "add_line_vertical(225, 355, 575)  # 675, 525 - 675, 654\n",
    "add_line_vertical(165, 280, 542)  # 642, 466 - 642, 580\n",
    "add_line_vertical(280, 355, 520)  # 618, 580 - 618, 654\n",
    "add_line_vertical(280, 180, 495)  # 595, 580 - 595, 654\n",
    "add_line_vertical(185, 180, 465)  # 563, 484 - 563, 654\n",
    "add_line_vertical(185, 180, 410)  # 508, 484 - 508, 654\n",
    "add_line_vertical(185, 230, 380)  # 479, 484 - 479, 530\n",
    "add_line_vertical(185, 200, 370)  # 468, 484 - 468, 502 \n",
    "add_line_vertical(230, 355, 370)  # 468, 530 - 468, 654\n",
    "add_line_vertical(165, 220, 325)  # 427, 466 - 427, 522 \n",
    "add_line_vertical(280, 355, 325)  # 427, 580 - 427, 654\n",
    "\n",
    "add_line_vertical(185, 185, 295)  # 395, 484 - 395, 522 \n",
    "add_line_vertical(280, 280, 295)  # 395, 580 - 395, 624\n",
    "add_line_vertical(165, 325, 290)  # 390, 466 - 390, 624\n",
    "\n",
    "add_line_vertical(280, 355, 270)  # 371, 580 - 371, 654\n",
    "add_line_vertical(280, 355, 265)  # 365, 580 - 365, 654\n",
    "add_line_vertical(280, 340, 260)  # 359, 580 - 359, 638\n",
    "add_line_vertical(220, 340, 255)  # 354, 522 - 354, 638\n",
    "add_line_vertical(165, 355, 245)  # 345, 466 - 345, 654\n",
    "add_line_vertical(165, 355, 160)  # 262, 466 - 262, 654"
   ],
   "metadata": {
    "collapsed": false,
    "ExecuteTime": {
     "end_time": "2023-12-17T16:48:20.156052Z",
     "start_time": "2023-12-17T16:48:20.147789Z"
    }
   },
   "id": "c7392b3d39a85de8"
  },
  {
   "cell_type": "code",
   "execution_count": 78,
   "outputs": [],
   "source": [
    "for x in g:\n",
    "    lst_to_remove = []\n",
    "    for j in range(4):\n",
    "        if g[x][j] not in g:\n",
    "            lst_to_remove.append(j)\n",
    "\n",
    "    for j in lst_to_remove[::-1]:\n",
    "        del g[x][j]"
   ],
   "metadata": {
    "collapsed": false,
    "ExecuteTime": {
     "end_time": "2023-12-17T16:48:20.377869Z",
     "start_time": "2023-12-17T16:48:20.375905Z"
    }
   },
   "id": "7dfe21488f82fe7b"
  },
  {
   "cell_type": "code",
   "execution_count": 80,
   "outputs": [
    {
     "ename": "KeyboardInterrupt",
     "evalue": "",
     "output_type": "error",
     "traceback": [
      "\u001B[0;31m---------------------------------------------------------------------------\u001B[0m",
      "\u001B[0;31mKeyboardInterrupt\u001B[0m                         Traceback (most recent call last)",
      "Cell \u001B[0;32mIn[80], line 42\u001B[0m\n\u001B[1;32m     39\u001B[0m pygame\u001B[38;5;241m.\u001B[39mtime\u001B[38;5;241m.\u001B[39mset_timer(timer_event, time_delay)\n\u001B[1;32m     41\u001B[0m \u001B[38;5;28;01mwhile\u001B[39;00m running:\n\u001B[0;32m---> 42\u001B[0m     \u001B[38;5;28;01mfor\u001B[39;00m event \u001B[38;5;129;01min\u001B[39;00m \u001B[43mpygame\u001B[49m\u001B[38;5;241;43m.\u001B[39;49m\u001B[43mevent\u001B[49m\u001B[38;5;241;43m.\u001B[39;49m\u001B[43mget\u001B[49m\u001B[43m(\u001B[49m\u001B[43m)\u001B[49m:\n\u001B[1;32m     43\u001B[0m         \u001B[38;5;28;01mif\u001B[39;00m event\u001B[38;5;241m.\u001B[39mtype \u001B[38;5;241m==\u001B[39m QUIT:\n\u001B[1;32m     44\u001B[0m             running \u001B[38;5;241m=\u001B[39m \u001B[38;5;28;01mFalse\u001B[39;00m\n",
      "\u001B[0;31mKeyboardInterrupt\u001B[0m: "
     ]
    }
   ],
   "source": [
    "pygame.init()\n",
    "# Parameters\n",
    "w_width = 800\n",
    "w_height = 500\n",
    "# Set up the drawing window, adjust the size\n",
    "screen = pygame.display.set_mode([w_width, w_height])\n",
    "\n",
    "# Set background\n",
    "screen.fill((255, 255, 255))\n",
    "\n",
    "ts = TaxiService(g)\n",
    "\n",
    "\n",
    "def draw(screen, v_cor):\n",
    "    block_size = 5\n",
    "\n",
    "    for i, j in v_cor.values():\n",
    "        rect = pygame.Rect(i, j, block_size - 1, block_size - 1)\n",
    "        pygame.draw.rect(screen, (210, 210, 210), rect, 0)\n",
    "\n",
    "    for taxi in ts.taxis.values():\n",
    "        i, j = v_corr[taxi.current_vertex]\n",
    "        rect = pygame.Rect(i, j, block_size - 3, block_size - 3)\n",
    "        pygame.draw.rect(screen, (210, 150, 10), rect, 0)\n",
    "\n",
    "    for customer in ts.customers:\n",
    "        i, j = v_corr[customer.current_vertex]\n",
    "        rect = pygame.Rect(i + 2, j + 2, block_size - 3, block_size - 3)\n",
    "        pygame.draw.rect(screen, (100, 150, 10), rect, 0)\n",
    "\n",
    "    pygame.display.flip()\n",
    "\n",
    "\n",
    "draw(screen, v_corr)\n",
    "running = True\n",
    "\n",
    "time_delay = 200  # 0.2 s\n",
    "timer_event = pygame.USEREVENT + 1\n",
    "pygame.time.set_timer(timer_event, time_delay)\n",
    "\n",
    "while running:\n",
    "    for event in pygame.event.get():\n",
    "        if event.type == QUIT:\n",
    "            running = False\n",
    "\n",
    "        if event.type == KEYDOWN:\n",
    "            if event.key == K_RIGHT:\n",
    "                ts.make_step()\n",
    "                draw(screen, v_corr)\n",
    "    \n",
    "pygame.quit()"
   ],
   "metadata": {
    "collapsed": false,
    "ExecuteTime": {
     "end_time": "2023-12-17T16:49:08.192827Z",
     "start_time": "2023-12-17T16:48:49.017739Z"
    }
   },
   "id": "fe4e9a4f0fc6aef3"
  },
  {
   "cell_type": "code",
   "execution_count": null,
   "outputs": [],
   "source": [],
   "metadata": {
    "collapsed": false
   },
   "id": "11db384a3cbfefbe"
  }
 ],
 "metadata": {
  "kernelspec": {
   "display_name": "Python 3",
   "language": "python",
   "name": "python3"
  },
  "language_info": {
   "codemirror_mode": {
    "name": "ipython",
    "version": 2
   },
   "file_extension": ".py",
   "mimetype": "text/x-python",
   "name": "python",
   "nbconvert_exporter": "python",
   "pygments_lexer": "ipython2",
   "version": "2.7.6"
  }
 },
 "nbformat": 4,
 "nbformat_minor": 5
}
