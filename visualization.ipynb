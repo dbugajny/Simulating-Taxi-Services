{
 "cells": [
  {
   "cell_type": "code",
   "execution_count": 14,
   "outputs": [],
   "source": [
    "import pygame\n",
    "\n",
    "from pygame.locals import (\n",
    "    K_RIGHT,\n",
    "    KEYDOWN,\n",
    "    QUIT,\n",
    ")\n",
    "from taxi_service_model import TaxiService"
   ],
   "metadata": {
    "collapsed": false,
    "ExecuteTime": {
     "end_time": "2023-12-17T15:25:27.191346Z",
     "start_time": "2023-12-17T15:25:27.185642Z"
    }
   },
   "id": "848051e5f083bd93"
  },
  {
   "cell_type": "code",
   "execution_count": 53,
   "outputs": [],
   "source": [
    "v_corr = {}\n",
    "g = {}\n",
    "cnt = 0\n",
    "\n",
    "\n",
    "def add_line_horizontal(line_start, line_end, position, block_size=5):\n",
    "    for i in range(line_start, line_end, block_size):\n",
    "        v_corr[f\"{i} {position}\"] = (i, position)\n",
    "        g[f\"{i} {position}\"] = (\n",
    "            [\n",
    "                f\"{i-block_size} {position}\",\n",
    "                f\"{i} {position-block_size}\",\n",
    "                f\"{i+block_size} {position}\",\n",
    "                f\"{i} {position+block_size}\"\n",
    "            ]\n",
    "        )\n",
    "\n",
    "\n",
    "def add_line_vertical(line_start, line_end, position, block_size=5):\n",
    "    for i in range(line_start, line_end, block_size):\n",
    "        v_corr[f\"{position} {i}\"] = (position, i)\n",
    "        g[f\"{position} {i}\"] = (\n",
    "            [\n",
    "                f\"{position-block_size} {i}\",\n",
    "                f\"{position} {i-block_size}\",\n",
    "                f\"{position+block_size} {i}\",\n",
    "                f\"{position} {i+block_size}\"\n",
    "            ]\n",
    "        )\n"
   ],
   "metadata": {
    "collapsed": false,
    "ExecuteTime": {
     "end_time": "2023-12-17T15:59:39.398847Z",
     "start_time": "2023-12-17T15:59:39.393824Z"
    }
   },
   "id": "ff3f16e32a937c5a"
  },
  {
   "cell_type": "code",
   "execution_count": 54,
   "outputs": [],
   "source": [
    "# # Horizontal:\n",
    "add_line_horizontal(260, 425, 465)  # 262, 466 - 427, 466 \n",
    "add_line_horizontal(640, 835, 465)  # 642, 466 - 836, 466\n",
    "add_line_horizontal(260, 835, 485)  # 262, 484 - 837, 484\n",
    "add_line_horizontal(260, 835, 485)  # 262, 502 - 642, 502 \n",
    "add_line_horizontal(640, 835, 515)  # 642, 515 - 836, 515\n",
    "# add_line_horizontal(260, 835, 520)  # 262, 522 - 836, 522\n",
    "add_line_horizontal(640, 835, 540)  # 642, 543 - 836, 543\n",
    "add_line_horizontal(260, 835, 560)  # 642, 562 - 836, 562\n",
    "add_line_horizontal(260, 355, 540)  # 262, 540 - 355, 540\n",
    "add_line_horizontal(260, 355, 560)  # 262, 560 - 355, 560\n",
    "add_line_horizontal(260, 675, 580)  # 262, 580 - 675, 580\n",
    "add_line_horizontal(260, 780, 580)  # 262, 592 - 782, 592\n",
    "add_line_horizontal(260, 725, 600)  # 262, 603 - 725, 603 \n",
    "add_line_horizontal(260, 745, 615)  # 262, 613 - 745, 613\n",
    "add_line_horizontal(260, 725, 625)  # 262, 624 - 725, 624\n",
    "add_line_horizontal(260, 725, 640)  # 262, 638 - 725, 638\n",
    "add_line_horizontal(260, 725, 655)  # 262, 654 - 725, 654\n",
    "add_line_horizontal(470, 480, 530)  # 468, 530 - 479, 530"
   ],
   "metadata": {
    "collapsed": false,
    "ExecuteTime": {
     "end_time": "2023-12-17T15:59:39.588892Z",
     "start_time": "2023-12-17T15:59:39.584592Z"
    }
   },
   "id": "198aec199aaffebb"
  },
  {
   "cell_type": "code",
   "execution_count": 55,
   "outputs": [],
   "source": [
    "# Vertical:\n",
    "add_line_vertical(465, 560, 835)  # 836, 466 - 836, 562\n",
    "add_line_vertical(465, 485, 780)  # 782, 466 - 782, 484 \n",
    "add_line_vertical(515, 590, 780)  # 782, 515 - 782, 592\n",
    "add_line_vertical(465, 655, 725)  # 725, 466 - 725, 654\n",
    "add_line_vertical(525, 655, 675)  # 675, 525 - 675, 654\n",
    "add_line_vertical(465, 580, 642)  # 642, 466 - 642, 580\n",
    "add_line_vertical(580, 655, 620)  # 618, 580 - 618, 654\n",
    "add_line_vertical(580, 480, 595)  # 595, 580 - 595, 654\n",
    "add_line_vertical(485, 480, 565)  # 563, 484 - 563, 654\n",
    "add_line_vertical(485, 480, 510)  # 508, 484 - 508, 654\n",
    "add_line_vertical(485, 530, 480)  # 479, 484 - 479, 530\n",
    "add_line_vertical(485, 500, 470)  # 468, 484 - 468, 502 \n",
    "add_line_vertical(530, 655, 470)  # 468, 530 - 468, 654\n",
    "add_line_vertical(465, 520, 425)  # 427, 466 - 427, 522 \n",
    "add_line_vertical(580, 655, 425)  # 427, 580 - 427, 654\n",
    "\n",
    "add_line_vertical(485, 485, 395)  # 395, 484 - 395, 522 \n",
    "add_line_vertical(580, 580, 395)  # 395, 580 - 395, 624\n",
    "add_line_vertical(465, 625, 390)  # 390, 466 - 390, 624\n",
    "\n",
    "add_line_vertical(580, 655, 370)  # 371, 580 - 371, 654\n",
    "add_line_vertical(580, 655, 365)  # 365, 580 - 365, 654\n",
    "add_line_vertical(580, 640, 360)  # 359, 580 - 359, 638\n",
    "add_line_vertical(520, 640, 355)  # 354, 522 - 354, 638\n",
    "add_line_vertical(465, 655, 345)  # 345, 466 - 345, 654\n",
    "add_line_vertical(465, 655, 260)  # 262, 466 - 262, 654"
   ],
   "metadata": {
    "collapsed": false,
    "ExecuteTime": {
     "end_time": "2023-12-17T15:59:39.848605Z",
     "start_time": "2023-12-17T15:59:39.835838Z"
    }
   },
   "id": "c7392b3d39a85de8"
  },
  {
   "cell_type": "code",
   "execution_count": 56,
   "outputs": [],
   "source": [
    "for x in g:\n",
    "    lst_to_remove = []\n",
    "    for j in range(4):\n",
    "        if g[x][j] not in g:\n",
    "            lst_to_remove.append(j)\n",
    "\n",
    "    for j in lst_to_remove[::-1]:\n",
    "        del g[x][j]"
   ],
   "metadata": {
    "collapsed": false,
    "ExecuteTime": {
     "end_time": "2023-12-17T15:59:40.132172Z",
     "start_time": "2023-12-17T15:59:40.130134Z"
    }
   },
   "id": "7dfe21488f82fe7b"
  },
  {
   "cell_type": "code",
   "execution_count": 57,
   "outputs": [
    {
     "ename": "KeyboardInterrupt",
     "evalue": "",
     "output_type": "error",
     "traceback": [
      "\u001B[0;31m---------------------------------------------------------------------------\u001B[0m",
      "\u001B[0;31mKeyboardInterrupt\u001B[0m                         Traceback (most recent call last)",
      "Cell \u001B[0;32mIn[57], line 42\u001B[0m\n\u001B[1;32m     39\u001B[0m pygame\u001B[38;5;241m.\u001B[39mtime\u001B[38;5;241m.\u001B[39mset_timer(timer_event, time_delay)\n\u001B[1;32m     41\u001B[0m \u001B[38;5;28;01mwhile\u001B[39;00m running:\n\u001B[0;32m---> 42\u001B[0m     \u001B[38;5;28;01mfor\u001B[39;00m event \u001B[38;5;129;01min\u001B[39;00m \u001B[43mpygame\u001B[49m\u001B[38;5;241;43m.\u001B[39;49m\u001B[43mevent\u001B[49m\u001B[38;5;241;43m.\u001B[39;49m\u001B[43mget\u001B[49m\u001B[43m(\u001B[49m\u001B[43m)\u001B[49m:\n\u001B[1;32m     43\u001B[0m         \u001B[38;5;28;01mif\u001B[39;00m event\u001B[38;5;241m.\u001B[39mtype \u001B[38;5;241m==\u001B[39m QUIT:\n\u001B[1;32m     44\u001B[0m             running \u001B[38;5;241m=\u001B[39m \u001B[38;5;28;01mFalse\u001B[39;00m\n",
      "\u001B[0;31mKeyboardInterrupt\u001B[0m: "
     ]
    }
   ],
   "source": [
    "pygame.init()\n",
    "# Parameters\n",
    "w_width = 900\n",
    "w_height = 900\n",
    "# Set up the drawing window, adjust the size\n",
    "screen = pygame.display.set_mode([w_width, w_height])\n",
    "\n",
    "# Set background\n",
    "screen.fill((255, 255, 255))\n",
    "\n",
    "ts = TaxiService(g)\n",
    "\n",
    "\n",
    "def draw(screen, v_cor):\n",
    "    block_size = 5\n",
    "\n",
    "    for i, j in v_cor.values():\n",
    "        rect = pygame.Rect(i, j, block_size - 1, block_size - 1)\n",
    "        pygame.draw.rect(screen, (210, 210, 210), rect, 0)\n",
    "\n",
    "    for taxi in ts.taxis.values():\n",
    "        i, j = v_corr[taxi.current_vertex]\n",
    "        rect = pygame.Rect(i, j, block_size - 3, block_size - 3)\n",
    "        pygame.draw.rect(screen, (210, 150, 10), rect, 0)\n",
    "\n",
    "    for customer in ts.customers:\n",
    "        i, j = v_corr[customer.current_vertex]\n",
    "        rect = pygame.Rect(i + 2, j + 2, block_size - 3, block_size - 3)\n",
    "        pygame.draw.rect(screen, (100, 150, 10), rect, 0)\n",
    "\n",
    "    pygame.display.flip()\n",
    "\n",
    "\n",
    "draw(screen, v_corr)\n",
    "running = True\n",
    "\n",
    "time_delay = 200  # 0.2 s\n",
    "timer_event = pygame.USEREVENT + 1\n",
    "pygame.time.set_timer(timer_event, time_delay)\n",
    "\n",
    "while running:\n",
    "    for event in pygame.event.get():\n",
    "        if event.type == QUIT:\n",
    "            running = False\n",
    "\n",
    "        if event.type == KEYDOWN:\n",
    "            if event.key == K_RIGHT:\n",
    "                ts.make_step()\n",
    "                draw(screen, v_corr)\n",
    "    \n",
    "pygame.quit()"
   ],
   "metadata": {
    "collapsed": false,
    "ExecuteTime": {
     "end_time": "2023-12-17T16:43:18.636508Z",
     "start_time": "2023-12-17T15:59:40.420903Z"
    }
   },
   "id": "fe4e9a4f0fc6aef3"
  },
  {
   "cell_type": "code",
   "execution_count": null,
   "outputs": [],
   "source": [],
   "metadata": {
    "collapsed": false
   },
   "id": "11db384a3cbfefbe"
  }
 ],
 "metadata": {
  "kernelspec": {
   "display_name": "Python 3",
   "language": "python",
   "name": "python3"
  },
  "language_info": {
   "codemirror_mode": {
    "name": "ipython",
    "version": 2
   },
   "file_extension": ".py",
   "mimetype": "text/x-python",
   "name": "python",
   "nbconvert_exporter": "python",
   "pygments_lexer": "ipython2",
   "version": "2.7.6"
  }
 },
 "nbformat": 4,
 "nbformat_minor": 5
}
