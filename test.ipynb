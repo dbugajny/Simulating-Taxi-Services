{
 "cells": [
  {
   "cell_type": "code",
   "execution_count": 6,
   "outputs": [],
   "source": [
    "import igraph as ig\n",
    "from enum import Enum\n",
    "\n",
    "CustomerStatus = Enum(\"CustomerStatus\", [\"no_taxi\", \"waiting\", \"inside\", \"end\"])\n",
    "TaxiStatus = Enum(\"CustomerStatus\", [\"going_to_customer\", \"has_customer\", \"free\", \"stopped\"])"
   ],
   "metadata": {
    "collapsed": false,
    "ExecuteTime": {
     "end_time": "2023-11-28T16:36:19.046060350Z",
     "start_time": "2023-11-28T16:36:18.999168795Z"
    }
   },
   "id": "848051e5f083bd93"
  },
  {
   "cell_type": "code",
   "execution_count": 30,
   "id": "initial_id",
   "metadata": {
    "collapsed": true,
    "ExecuteTime": {
     "end_time": "2023-11-28T17:50:28.059357598Z",
     "start_time": "2023-11-28T17:50:28.056312331Z"
    }
   },
   "outputs": [],
   "source": [
    "class Taxi:\n",
    "    def __init__(self, current_vertex):\n",
    "        self.status = \"free\"\n",
    "        self.total_income = 0\n",
    "        self.total_distance = 0\n",
    "        self.current_vertex = current_vertex"
   ]
  },
  {
   "cell_type": "code",
   "execution_count": 146,
   "outputs": [],
   "source": [
    "class Customer:\n",
    "    def __init__(self, current_vertex, destination_vertex):\n",
    "        self.status: CustomerStatus = \"no_taxi\"\n",
    "        self.current_vertex = current_vertex\n",
    "        self.destination_path = None\n",
    "        self.destination_vertex = destination_vertex\n",
    "        self.assigned_taxi = None\n",
    "        self.pickup_path = None"
   ],
   "metadata": {
    "collapsed": false,
    "ExecuteTime": {
     "end_time": "2023-11-28T18:50:10.874174993Z",
     "start_time": "2023-11-28T18:50:10.826432025Z"
    }
   },
   "id": "60ebdd457e5014c8"
  },
  {
   "cell_type": "code",
   "execution_count": 199,
   "outputs": [],
   "source": [
    "class TaxiService:\n",
    "    def __init__(self, graph):\n",
    "        self.customers: list[Customer] = []\n",
    "        self.graph = graph\n",
    "        \n",
    "        self.taxis: dict[str, Taxi] = {}\n",
    "        self.taxis_in_vertices = {k: [] for k in graph.keys()}  # all vertices with current taxis, need to check if there are free taxis\n",
    "        self.customers_in_vertices = {k: [] for k in graph.keys()}\n",
    "        \n",
    "        for i in range(5):\n",
    "            self.generate_new_taxi()\n",
    "    \n",
    "    def assign_taxi_to_customer(self):\n",
    "        for customer in self.customers:\n",
    "            if customer.status != \"no_taxi\":\n",
    "                continue\n",
    "            taxi_id, pickup_path = self.find_closest_taxi(customer.current_vertex)\n",
    "            if taxi_id:\n",
    "                customer.assigned_taxi = taxi_id\n",
    "                customer.pickup_path = pickup_path\n",
    "                customer.status = \"waiting\"\n",
    "                self.taxis[taxi_id].status = \"going_to_customer\"\n",
    "            else:\n",
    "                return\n",
    "    \n",
    "    def find_closest_taxi(self, customer_vertex):\n",
    "        predecessors = {customer_vertex: None}\n",
    "        visited = {customer_vertex}\n",
    "        queue = [customer_vertex]\n",
    "        while queue:\n",
    "            cur_ver = queue.pop(0)\n",
    "            for taxi in self.taxis_in_vertices[cur_ver]:\n",
    "                if self.taxis[taxi].status == \"free\":\n",
    "                    res = predecessors[cur_ver]\n",
    "                    path = [res] \n",
    "                    while res:\n",
    "                        res = predecessors[res]\n",
    "                        path.append(res)\n",
    "                    return taxi, path\n",
    "            for ver_edg in self.graph[cur_ver]:\n",
    "                if ver_edg not in visited:\n",
    "                    visited.add(ver_edg)\n",
    "                    queue.append(ver_edg)\n",
    "                    predecessors[ver_edg] = cur_ver\n",
    "        return None, None\n",
    "    \n",
    "    def find_destination_path(self, customer_vertex, destination_vertex):\n",
    "        predecessors = {destination_vertex: None}\n",
    "        visited = {destination_vertex}\n",
    "        queue = [destination_vertex]\n",
    "        while queue:\n",
    "            cur_ver = queue.pop(0)\n",
    "            if cur_ver == customer_vertex:\n",
    "                res = predecessors[cur_ver]\n",
    "    \n",
    "                path = []\n",
    "                while res:\n",
    "                    path.append(res)\n",
    "                    res = predecessors[res]\n",
    "                    \n",
    "                    \n",
    "                return path\n",
    "            \n",
    "            for ver_edg in self.graph[cur_ver]:\n",
    "                if ver_edg not in visited:\n",
    "                    visited.add(ver_edg)\n",
    "                    queue.append(ver_edg)\n",
    "                    predecessors[ver_edg] = cur_ver\n",
    "                    \n",
    "        return None\n",
    "        \n",
    "    \n",
    "    def generate_new_taxi(self):\n",
    "        if not self.taxis:\n",
    "            new_key = \"11111\"\n",
    "            self.taxis = {new_key: Taxi(\"1\")}\n",
    "            self.taxis_in_vertices[\"1\"].append(new_key)\n",
    "            return \n",
    "        new_key = str(int(max(self.taxis.keys())) + 1)\n",
    "        self.taxis[new_key] = Taxi(\"1\")\n",
    "        self.taxis_in_vertices[\"1\"].append(new_key)\n",
    "\n",
    "    def generate_new_customer(self):\n",
    "        self.customers.append(Customer(\"4\", \"1\"))\n",
    "        self.customers[-1].destination_path = self.find_destination_path(\"4\", \"1\")\n",
    "        \n",
    "        \n",
    "    def make_step(self):\n",
    "        # generate new taxis\n",
    "        \n",
    "        self.customers.append(Customer(\"1\", \"3\")) # just for test\n",
    "        \n",
    "        # generate new customers\n",
    "        self.generate_new_customer()\n",
    "        self.generate_new_customer()\n",
    "\n",
    "        self.assign_taxi_to_customer()\n",
    "        \n",
    "        # # move \n",
    "        # for customer in self.customers:\n",
    "        #     if customer.status == \"waiting\":\n",
    "        #         if customer.pickup_path:\n",
    "        #             new_ver = customer.pickup_path.pop(0)\n",
    "        #             customer.current_vertex = new_ver\n",
    "        #             self.taxis[customer.assigned_taxi].current_vertex = new_ver\n",
    "        #         else:\n",
    "        #             customer.status = \"inside\"\n",
    "        #     elif customer.status == \"inside\":\n",
    "        #         if customer.destination_path:\n",
    "        #             new_ver = customer.destination_path.pop(0)\n",
    "        #             customer.current_vertex = new_ver\n",
    "        #             self.taxis[customer.assigned_taxi].current_vertex = new_ver\n",
    "        #         else:\n",
    "        #             customer.status = \"end\"\n",
    "        #             \n",
    "        # end customer\n",
    "        "
   ],
   "metadata": {
    "collapsed": false,
    "ExecuteTime": {
     "end_time": "2023-11-28T18:55:00.724021101Z",
     "start_time": "2023-11-28T18:55:00.673659898Z"
    }
   },
   "id": "6ab8b82ab466afce"
  },
  {
   "cell_type": "code",
   "execution_count": 200,
   "outputs": [],
   "source": [
    "g = {\"1\": [\"2\"], \"2\": [\"1\", \"3\", \"4\"], \"3\": [\"2\"], \"4\": [\"2\"]}"
   ],
   "metadata": {
    "collapsed": false,
    "ExecuteTime": {
     "end_time": "2023-11-28T18:55:00.869581493Z",
     "start_time": "2023-11-28T18:55:00.852048360Z"
    }
   },
   "id": "8b54d84040cf74ed"
  },
  {
   "cell_type": "code",
   "execution_count": 201,
   "outputs": [],
   "source": [
    "ts = TaxiService(g)"
   ],
   "metadata": {
    "collapsed": false,
    "ExecuteTime": {
     "end_time": "2023-11-28T18:55:01.032027831Z",
     "start_time": "2023-11-28T18:55:01.022661557Z"
    }
   },
   "id": "dc4fa38e8350436f"
  },
  {
   "cell_type": "code",
   "execution_count": 202,
   "outputs": [],
   "source": [
    "ts.make_step()"
   ],
   "metadata": {
    "collapsed": false,
    "ExecuteTime": {
     "end_time": "2023-11-28T18:55:01.240480410Z",
     "start_time": "2023-11-28T18:55:01.231106055Z"
    }
   },
   "id": "83b805dfc18f0309"
  },
  {
   "cell_type": "code",
   "execution_count": 203,
   "outputs": [
    {
     "data": {
      "text/plain": "'4'"
     },
     "execution_count": 203,
     "metadata": {},
     "output_type": "execute_result"
    }
   ],
   "source": [
    "ts.customers[1].current_vertex"
   ],
   "metadata": {
    "collapsed": false,
    "ExecuteTime": {
     "end_time": "2023-11-28T18:55:01.386508059Z",
     "start_time": "2023-11-28T18:55:01.374741820Z"
    }
   },
   "id": "d8dc8d05b9ad1786"
  },
  {
   "cell_type": "code",
   "execution_count": 204,
   "outputs": [
    {
     "data": {
      "text/plain": "'1'"
     },
     "execution_count": 204,
     "metadata": {},
     "output_type": "execute_result"
    }
   ],
   "source": [
    "ts.customers[1].destination_vertex"
   ],
   "metadata": {
    "collapsed": false,
    "ExecuteTime": {
     "end_time": "2023-11-28T18:55:01.565110078Z",
     "start_time": "2023-11-28T18:55:01.551459305Z"
    }
   },
   "id": "160d9ac87587f539"
  },
  {
   "cell_type": "code",
   "execution_count": 205,
   "outputs": [
    {
     "data": {
      "text/plain": "['2', '1']"
     },
     "execution_count": 205,
     "metadata": {},
     "output_type": "execute_result"
    }
   ],
   "source": [
    "ts.customers[1].destination_path"
   ],
   "metadata": {
    "collapsed": false,
    "ExecuteTime": {
     "end_time": "2023-11-28T18:55:01.765185863Z",
     "start_time": "2023-11-28T18:55:01.748027893Z"
    }
   },
   "id": "c213a178241296e1"
  },
  {
   "cell_type": "code",
   "execution_count": 168,
   "outputs": [
    {
     "data": {
      "text/plain": "[]"
     },
     "execution_count": 168,
     "metadata": {},
     "output_type": "execute_result"
    }
   ],
   "source": [
    "ts.customers[0].pickup_path"
   ],
   "metadata": {
    "collapsed": false,
    "ExecuteTime": {
     "end_time": "2023-11-28T18:51:48.421345659Z",
     "start_time": "2023-11-28T18:51:48.412425002Z"
    }
   },
   "id": "8192aced5760af06"
  },
  {
   "cell_type": "code",
   "execution_count": 161,
   "outputs": [
    {
     "data": {
      "text/plain": "['4', None]"
     },
     "execution_count": 161,
     "metadata": {},
     "output_type": "execute_result"
    }
   ],
   "source": [
    "ts.customers[1].pickup_path"
   ],
   "metadata": {
    "collapsed": false,
    "ExecuteTime": {
     "end_time": "2023-11-28T18:51:18.700543360Z",
     "start_time": "2023-11-28T18:51:18.689508235Z"
    }
   },
   "id": "b7140e7473efb028"
  },
  {
   "cell_type": "code",
   "execution_count": null,
   "outputs": [],
   "source": [],
   "metadata": {
    "collapsed": false
   },
   "id": "bac9ff882c685568"
  }
 ],
 "metadata": {
  "kernelspec": {
   "display_name": "Python 3",
   "language": "python",
   "name": "python3"
  },
  "language_info": {
   "codemirror_mode": {
    "name": "ipython",
    "version": 2
   },
   "file_extension": ".py",
   "mimetype": "text/x-python",
   "name": "python",
   "nbconvert_exporter": "python",
   "pygments_lexer": "ipython2",
   "version": "2.7.6"
  }
 },
 "nbformat": 4,
 "nbformat_minor": 5
}
