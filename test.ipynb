{
 "cells": [
  {
   "cell_type": "code",
   "execution_count": 206,
   "outputs": [],
   "source": [
    "import igraph as ig\n",
    "from enum import Enum\n",
    "\n",
    "CustomerStatus = Enum(\"CustomerStatus\", [\"no_taxi\", \"waiting\", \"inside\", \"end\"])\n",
    "TaxiStatus = Enum(\"CustomerStatus\", [\"going_to_customer\", \"has_customer\", \"free\", \"stopped\"])"
   ],
   "metadata": {
    "collapsed": false,
    "ExecuteTime": {
     "end_time": "2023-11-29T07:22:58.529283962Z",
     "start_time": "2023-11-29T07:22:58.524106545Z"
    }
   },
   "id": "848051e5f083bd93"
  },
  {
   "cell_type": "code",
   "execution_count": 228,
   "outputs": [],
   "source": [
    "INITIAL_FEE = 5\n",
    "LENGTH_FEE = 2"
   ],
   "metadata": {
    "collapsed": false,
    "ExecuteTime": {
     "end_time": "2023-11-29T07:27:32.581140264Z",
     "start_time": "2023-11-29T07:27:32.536052728Z"
    }
   },
   "id": "396090d720549968"
  },
  {
   "cell_type": "code",
   "execution_count": 229,
   "id": "initial_id",
   "metadata": {
    "collapsed": true,
    "ExecuteTime": {
     "end_time": "2023-11-29T07:27:32.886889095Z",
     "start_time": "2023-11-29T07:27:32.882090449Z"
    }
   },
   "outputs": [],
   "source": [
    "class Taxi:\n",
    "    def __init__(self, current_vertex):\n",
    "        self.status = \"free\"\n",
    "        self.total_income = 0\n",
    "        self.total_distance = 0\n",
    "        self.current_vertex = current_vertex\n",
    "        self.n_customers = 0"
   ]
  },
  {
   "cell_type": "code",
   "execution_count": 230,
   "outputs": [],
   "source": [
    "class Customer:\n",
    "    def __init__(self, current_vertex, destination_vertex):\n",
    "        self.status: CustomerStatus = \"no_taxi\"\n",
    "        self.current_vertex = current_vertex\n",
    "        self.destination_path = None\n",
    "        self.destination_vertex = destination_vertex\n",
    "        self.assigned_taxi = None\n",
    "        self.pickup_path = None"
   ],
   "metadata": {
    "collapsed": false,
    "ExecuteTime": {
     "end_time": "2023-11-29T07:27:33.049556882Z",
     "start_time": "2023-11-29T07:27:33.044070215Z"
    }
   },
   "id": "60ebdd457e5014c8"
  },
  {
   "cell_type": "code",
   "execution_count": 235,
   "outputs": [],
   "source": [
    "class TaxiService:\n",
    "    def __init__(self, graph):\n",
    "        self.customers: list[Customer] = []\n",
    "        self.graph = graph\n",
    "        \n",
    "        self.taxis: dict[str, Taxi] = {}\n",
    "        self.taxis_in_vertices = {k: [] for k in graph.keys()}  # all vertices with current taxis, need to check if there are free taxis\n",
    "        self.customers_in_vertices = {k: [] for k in graph.keys()}\n",
    "        \n",
    "        for i in range(5):\n",
    "            self.generate_new_taxi()\n",
    "    \n",
    "    def assign_taxi_to_customer(self):\n",
    "        for customer in self.customers:\n",
    "            if customer.status != \"no_taxi\":\n",
    "                continue\n",
    "            taxi_id, pickup_path = self.find_closest_taxi(customer.current_vertex)\n",
    "            if taxi_id:\n",
    "                customer.assigned_taxi = taxi_id\n",
    "                customer.pickup_path = pickup_path\n",
    "                customer.status = \"waiting\"\n",
    "                self.taxis[taxi_id].status = \"going_to_customer\"\n",
    "                self.taxis[taxi_id].n_customers += 1\n",
    "                self.taxis[taxi_id].total_income += INITIAL_FEE\n",
    "            else:\n",
    "                return\n",
    "    \n",
    "    def find_closest_taxi(self, customer_vertex):\n",
    "        predecessors = {customer_vertex: None}\n",
    "        visited = {customer_vertex}\n",
    "        queue = [customer_vertex]\n",
    "        while queue:\n",
    "            cur_ver = queue.pop(0)\n",
    "            for taxi in self.taxis_in_vertices[cur_ver]:\n",
    "                if self.taxis[taxi].status == \"free\":\n",
    "                    res = predecessors[cur_ver]\n",
    "                    \n",
    "                    path = [] \n",
    "                    while res:\n",
    "                        path.append(res)\n",
    "                        res = predecessors[res]\n",
    "                        \n",
    "                    return taxi, path\n",
    "            for ver_edg in self.graph[cur_ver]:\n",
    "                if ver_edg not in visited:\n",
    "                    visited.add(ver_edg)\n",
    "                    queue.append(ver_edg)\n",
    "                    predecessors[ver_edg] = cur_ver\n",
    "        return None, None\n",
    "    \n",
    "    def find_destination_path(self, customer_vertex, destination_vertex):\n",
    "        predecessors = {destination_vertex: None}\n",
    "        visited = {destination_vertex}\n",
    "        queue = [destination_vertex]\n",
    "        while queue:\n",
    "            cur_ver = queue.pop(0)\n",
    "            if cur_ver == customer_vertex:\n",
    "                res = predecessors[cur_ver]\n",
    "    \n",
    "                path = []\n",
    "                while res:\n",
    "                    path.append(res)\n",
    "                    res = predecessors[res]\n",
    "                    \n",
    "                return path\n",
    "            \n",
    "            for ver_edg in self.graph[cur_ver]:\n",
    "                if ver_edg not in visited:\n",
    "                    visited.add(ver_edg)\n",
    "                    queue.append(ver_edg)\n",
    "                    predecessors[ver_edg] = cur_ver\n",
    "                    \n",
    "        return None\n",
    "        \n",
    "    \n",
    "    def generate_new_taxi(self):\n",
    "        if not self.taxis:\n",
    "            new_key = \"11111\"\n",
    "            self.taxis = {new_key: Taxi(\"1\")}\n",
    "            self.taxis_in_vertices[\"1\"].append(new_key)\n",
    "            return \n",
    "        new_key = str(int(max(self.taxis.keys())) + 1)\n",
    "        self.taxis[new_key] = Taxi(\"1\")\n",
    "        self.taxis_in_vertices[\"1\"].append(new_key)\n",
    "\n",
    "    def generate_new_customer(self):\n",
    "        self.customers.append(Customer(\"4\", \"1\"))\n",
    "        self.customers[-1].destination_path = self.find_destination_path(\"4\", \"1\")\n",
    "        \n",
    "        \n",
    "    def make_step(self):\n",
    "        # generate new taxis\n",
    "        \n",
    "        self.customers.append(Customer(\"1\", \"3\")) # just for test\n",
    "        \n",
    "        # generate new customers\n",
    "        self.generate_new_customer()\n",
    "        self.generate_new_customer()\n",
    "\n",
    "        self.assign_taxi_to_customer()\n",
    "        \n",
    "        customers_to_delete = []\n",
    "        # # move \n",
    "        for i, customer in enumerate(self.customers):\n",
    "            if customer.status == \"waiting\":\n",
    "                if customer.pickup_path:\n",
    "                    new_ver = customer.pickup_path.pop(0)\n",
    "                    customer.current_vertex = new_ver\n",
    "                    self.taxis[customer.assigned_taxi].current_vertex = new_ver\n",
    "                    self.taxis[customer.assigned_taxi].total_distance += 1\n",
    "                else:\n",
    "                    customer.status = \"inside\"\n",
    "            elif customer.status == \"inside\":\n",
    "                if customer.destination_path:\n",
    "                    new_ver = customer.destination_path.pop(0)\n",
    "                    customer.current_vertex = new_ver\n",
    "                    self.taxis[customer.assigned_taxi].current_vertex = new_ver\n",
    "                    self.taxis[customer.assigned_taxi].total_distance += 1\n",
    "                    self.taxis[customer.assigned_taxi].total_income += LENGTH_FEE\n",
    "                else:\n",
    "                    customer.status = \"end\"\n",
    "            elif customer.status == \"end\":\n",
    "                self.taxis[customer.assigned_taxi].status = \"free\"\n",
    "                customers_to_delete.append(i)\n",
    "        \n",
    "        for i in customers_to_delete[::-1]:\n",
    "            del self.customers[i]\n",
    "        \n",
    "        "
   ],
   "metadata": {
    "collapsed": false,
    "ExecuteTime": {
     "end_time": "2023-11-29T07:39:11.553137704Z",
     "start_time": "2023-11-29T07:39:11.509645872Z"
    }
   },
   "id": "6ab8b82ab466afce"
  },
  {
   "cell_type": "code",
   "execution_count": 236,
   "outputs": [],
   "source": [
    "g = {\"1\": [\"2\"], \"2\": [\"1\", \"3\", \"4\"], \"3\": [\"2\"], \"4\": [\"2\"]}"
   ],
   "metadata": {
    "collapsed": false,
    "ExecuteTime": {
     "end_time": "2023-11-29T07:39:12.375872992Z",
     "start_time": "2023-11-29T07:39:12.367258523Z"
    }
   },
   "id": "8b54d84040cf74ed"
  },
  {
   "cell_type": "code",
   "execution_count": 239,
   "outputs": [],
   "source": [
    "ts = TaxiService(g)"
   ],
   "metadata": {
    "collapsed": false,
    "ExecuteTime": {
     "end_time": "2023-11-29T07:39:23.480573788Z",
     "start_time": "2023-11-29T07:39:23.471575084Z"
    }
   },
   "id": "dc4fa38e8350436f"
  },
  {
   "cell_type": "code",
   "execution_count": 240,
   "outputs": [],
   "source": [
    "for i in range(100):\n",
    "    ts.make_step()"
   ],
   "metadata": {
    "collapsed": false,
    "ExecuteTime": {
     "end_time": "2023-11-29T07:39:23.677891788Z",
     "start_time": "2023-11-29T07:39:23.671700581Z"
    }
   },
   "id": "83b805dfc18f0309"
  },
  {
   "cell_type": "code",
   "execution_count": 243,
   "outputs": [
    {
     "data": {
      "text/plain": "138"
     },
     "execution_count": 243,
     "metadata": {},
     "output_type": "execute_result"
    }
   ],
   "source": [
    "ts.taxis[\"11111\"].total_income"
   ],
   "metadata": {
    "collapsed": false,
    "ExecuteTime": {
     "end_time": "2023-11-29T07:39:44.237313056Z",
     "start_time": "2023-11-29T07:39:44.194248217Z"
    }
   },
   "id": "ff29dce0b0548c26"
  },
  {
   "cell_type": "code",
   "execution_count": 223,
   "outputs": [
    {
     "data": {
      "text/plain": "'4'"
     },
     "execution_count": 223,
     "metadata": {},
     "output_type": "execute_result"
    }
   ],
   "source": [
    "ts.customers[1].current_vertex"
   ],
   "metadata": {
    "collapsed": false,
    "ExecuteTime": {
     "end_time": "2023-11-29T07:23:57.247346715Z",
     "start_time": "2023-11-29T07:23:57.240359764Z"
    }
   },
   "id": "d8dc8d05b9ad1786"
  },
  {
   "cell_type": "code",
   "execution_count": 224,
   "outputs": [
    {
     "data": {
      "text/plain": "'1'"
     },
     "execution_count": 224,
     "metadata": {},
     "output_type": "execute_result"
    }
   ],
   "source": [
    "ts.customers[1].destination_vertex"
   ],
   "metadata": {
    "collapsed": false,
    "ExecuteTime": {
     "end_time": "2023-11-29T07:23:57.430037087Z",
     "start_time": "2023-11-29T07:23:57.423712005Z"
    }
   },
   "id": "160d9ac87587f539"
  },
  {
   "cell_type": "code",
   "execution_count": 225,
   "outputs": [
    {
     "data": {
      "text/plain": "['2', '1']"
     },
     "execution_count": 225,
     "metadata": {},
     "output_type": "execute_result"
    }
   ],
   "source": [
    "ts.customers[1].destination_path"
   ],
   "metadata": {
    "collapsed": false,
    "ExecuteTime": {
     "end_time": "2023-11-29T07:23:57.631829922Z",
     "start_time": "2023-11-29T07:23:57.625486180Z"
    }
   },
   "id": "c213a178241296e1"
  },
  {
   "cell_type": "code",
   "execution_count": 226,
   "outputs": [
    {
     "data": {
      "text/plain": "[]"
     },
     "execution_count": 226,
     "metadata": {},
     "output_type": "execute_result"
    }
   ],
   "source": [
    "ts.customers[0].pickup_path"
   ],
   "metadata": {
    "collapsed": false,
    "ExecuteTime": {
     "end_time": "2023-11-29T07:23:58.286530520Z",
     "start_time": "2023-11-29T07:23:58.282786245Z"
    }
   },
   "id": "8192aced5760af06"
  },
  {
   "cell_type": "code",
   "execution_count": 227,
   "outputs": [
    {
     "data": {
      "text/plain": "['2', '4']"
     },
     "execution_count": 227,
     "metadata": {},
     "output_type": "execute_result"
    }
   ],
   "source": [
    "ts.customers[1].pickup_path"
   ],
   "metadata": {
    "collapsed": false,
    "ExecuteTime": {
     "end_time": "2023-11-29T07:23:59.193212290Z",
     "start_time": "2023-11-29T07:23:59.189468336Z"
    }
   },
   "id": "b7140e7473efb028"
  },
  {
   "cell_type": "code",
   "execution_count": null,
   "outputs": [],
   "source": [],
   "metadata": {
    "collapsed": false
   },
   "id": "bac9ff882c685568"
  }
 ],
 "metadata": {
  "kernelspec": {
   "display_name": "Python 3",
   "language": "python",
   "name": "python3"
  },
  "language_info": {
   "codemirror_mode": {
    "name": "ipython",
    "version": 2
   },
   "file_extension": ".py",
   "mimetype": "text/x-python",
   "name": "python",
   "nbconvert_exporter": "python",
   "pygments_lexer": "ipython2",
   "version": "2.7.6"
  }
 },
 "nbformat": 4,
 "nbformat_minor": 5
}
