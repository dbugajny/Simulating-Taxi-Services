{
 "cells": [
  {
   "cell_type": "code",
   "execution_count": 428,
   "outputs": [],
   "source": [
    "import matplotlib.pyplot as plt\n",
    "from enum import Enum\n",
    "import numpy as np\n",
    "import pygame\n",
    "\n",
    "from pygame.locals import (\n",
    "    K_RIGHT,\n",
    "    KEYDOWN,\n",
    "    QUIT,\n",
    ")\n",
    "\n",
    "CustomerStatus = Enum(\"CustomerStatus\", [\"no_taxi\", \"waiting\", \"inside\", \"end\"])\n",
    "TaxiStatus = Enum(\"CustomerStatus\", [\"going_to_customer\", \"has_customer\", \"free\", \"stopped\"])"
   ],
   "metadata": {
    "collapsed": false,
    "ExecuteTime": {
     "end_time": "2023-11-29T21:13:43.923565433Z",
     "start_time": "2023-11-29T21:13:43.868565216Z"
    }
   },
   "id": "848051e5f083bd93"
  },
  {
   "cell_type": "code",
   "execution_count": 228,
   "outputs": [],
   "source": [
    "INITIAL_FEE = 5\n",
    "LENGTH_FEE = 2"
   ],
   "metadata": {
    "collapsed": false,
    "ExecuteTime": {
     "end_time": "2023-11-29T07:27:32.581140264Z",
     "start_time": "2023-11-29T07:27:32.536052728Z"
    }
   },
   "id": "396090d720549968"
  },
  {
   "cell_type": "code",
   "execution_count": 229,
   "id": "initial_id",
   "metadata": {
    "collapsed": true,
    "ExecuteTime": {
     "end_time": "2023-11-29T07:27:32.886889095Z",
     "start_time": "2023-11-29T07:27:32.882090449Z"
    }
   },
   "outputs": [],
   "source": [
    "class Taxi:\n",
    "    def __init__(self, current_vertex):\n",
    "        self.status = \"free\"\n",
    "        self.total_income = 0\n",
    "        self.total_distance = 0\n",
    "        self.current_vertex = current_vertex\n",
    "        self.n_customers = 0\n",
    "        # self.timer = 0  we can add time counter and increment in make "
   ]
  },
  {
   "cell_type": "code",
   "execution_count": 230,
   "outputs": [],
   "source": [
    "class Customer:\n",
    "    def __init__(self, current_vertex, destination_vertex):\n",
    "        self.status: CustomerStatus = \"no_taxi\"\n",
    "        self.current_vertex = current_vertex\n",
    "        self.destination_path = None\n",
    "        self.destination_vertex = destination_vertex\n",
    "        self.assigned_taxi = None\n",
    "        self.pickup_path = None"
   ],
   "metadata": {
    "collapsed": false,
    "ExecuteTime": {
     "end_time": "2023-11-29T07:27:33.049556882Z",
     "start_time": "2023-11-29T07:27:33.044070215Z"
    }
   },
   "id": "60ebdd457e5014c8"
  },
  {
   "cell_type": "code",
   "execution_count": 496,
   "outputs": [],
   "source": [
    "class TaxiService:\n",
    "    def __init__(self, graph):\n",
    "        self.customers: list[Customer] = []\n",
    "        self.graph = graph\n",
    "        \n",
    "        self.taxis: dict[str, Taxi] = {}\n",
    "        self.taxis_in_vertices = {k: [] for k in graph.keys()}  # all vertices with current taxis, need to check if there are free taxis\n",
    "        self.customers_in_vertices = {k: [] for k in graph.keys()}\n",
    "        \n",
    "        for i in range(1):\n",
    "            self.generate_new_taxi()\n",
    "            \n",
    "        for i in range(1):\n",
    "            self._generate_new_customer() \n",
    "            \n",
    "    \n",
    "    def assign_taxi_to_customer(self):\n",
    "        for customer in self.customers:\n",
    "            if customer.status != \"no_taxi\":\n",
    "                continue\n",
    "            taxi_id, pickup_path = self.find_closest_taxi(customer.current_vertex)\n",
    "            if taxi_id:\n",
    "                customer.assigned_taxi = taxi_id\n",
    "                customer.pickup_path = pickup_path\n",
    "                customer.status = \"waiting\"\n",
    "                self.taxis[taxi_id].status = \"going_to_customer\"\n",
    "                self.taxis[taxi_id].n_customers += 1\n",
    "                self.taxis[taxi_id].total_income += INITIAL_FEE\n",
    "            else:\n",
    "                return\n",
    "    \n",
    "    def _create_path(self, cur_ver, predecessors):\n",
    "        path = [] \n",
    "        \n",
    "        res = predecessors[cur_ver]\n",
    "                \n",
    "        while res:\n",
    "            path.append(res)\n",
    "            res = predecessors[res]\n",
    "        \n",
    "        return path\n",
    "    \n",
    "    def find_closest_taxi(self, customer_vertex):\n",
    "        predecessors = {customer_vertex: None}\n",
    "        visited = {customer_vertex}\n",
    "        queue = [customer_vertex]\n",
    "        while queue:\n",
    "            cur_ver = queue.pop(0)\n",
    "            for taxi in self.taxis_in_vertices[cur_ver]:\n",
    "                if self.taxis[taxi].status == \"free\":\n",
    "                    path = self._create_path(cur_ver, predecessors)\n",
    "                        \n",
    "                    return taxi, path\n",
    "            for ver_edg in self.graph[cur_ver]:\n",
    "                if ver_edg not in visited:\n",
    "                    visited.add(ver_edg)\n",
    "                    queue.append(ver_edg)\n",
    "                    predecessors[ver_edg] = cur_ver\n",
    "        return None, None\n",
    "    \n",
    "    def find_destination_path(self, customer_vertex, destination_vertex):\n",
    "        predecessors = {destination_vertex: None}\n",
    "        visited = {destination_vertex}\n",
    "        queue = [destination_vertex]\n",
    "        while queue:\n",
    "            cur_ver = queue.pop(0)\n",
    "            if cur_ver == customer_vertex:\n",
    "                path = self._create_path(cur_ver, predecessors)\n",
    "                    \n",
    "                return path\n",
    "            \n",
    "            for ver_edg in self.graph[cur_ver]:\n",
    "                if ver_edg not in visited:\n",
    "                    visited.add(ver_edg)\n",
    "                    queue.append(ver_edg)\n",
    "                    predecessors[ver_edg] = cur_ver\n",
    "                    \n",
    "        return None\n",
    "        \n",
    "    \n",
    "    def generate_new_taxi(self):\n",
    "        possible_lst = list(self.graph.keys())\n",
    "        current_vertex = np.random.choice(possible_lst)\n",
    "        \n",
    "        if not self.taxis:\n",
    "            new_key = \"11111\"\n",
    "        else:\n",
    "            new_key = str(int(max(self.taxis.keys())) + 1)\n",
    "    \n",
    "        self.taxis[new_key] = Taxi(current_vertex)\n",
    "        self.taxis_in_vertices[current_vertex].append(new_key)\n",
    "\n",
    "    def _generate_new_customer(self):\n",
    "        possible_lst = list(self.graph.keys())\n",
    "        current_vertex = np.random.choice(possible_lst)\n",
    "        possible_lst.remove(current_vertex)\n",
    "        destination_vertex = np.random.choice(possible_lst)\n",
    "    \n",
    "        customer = Customer(current_vertex, destination_vertex)\n",
    "        customer.destination_path = self.find_destination_path(current_vertex, destination_vertex)\n",
    "        \n",
    "        self.customers.append(customer)\n",
    "  \n",
    "    def generate_new_customers(self):\n",
    "        customer_proba = [0.99, 0.005, 0.005]\n",
    "        n_new_customers = np.random.choice(list(range(len(customer_proba))), p=customer_proba)\n",
    "        \n",
    "        for _ in range(n_new_customers):\n",
    "            self._generate_new_customer()\n",
    "        \n",
    "    def _process_customer_waiting(self, customer):\n",
    "        if customer.pickup_path:\n",
    "            new_ver = customer.pickup_path.pop(0)\n",
    "            self.taxis[customer.assigned_taxi].current_vertex = new_ver\n",
    "            self.taxis[customer.assigned_taxi].total_distance += 1\n",
    "        else:\n",
    "            customer.status = \"inside\"\n",
    "    \n",
    "    def _process_customer_inside(self, customer):\n",
    "        if customer.destination_path:\n",
    "            new_ver = customer.destination_path.pop(0)\n",
    "            customer.current_vertex = new_ver\n",
    "            self.taxis[customer.assigned_taxi].current_vertex = new_ver\n",
    "            self.taxis[customer.assigned_taxi].total_distance += 1\n",
    "            self.taxis[customer.assigned_taxi].total_income += LENGTH_FEE\n",
    "        else:\n",
    "            customer.status = \"end\"\n",
    "        \n",
    "    def make_step(self):\n",
    "        # generate new customers\n",
    "        self.generate_new_customers()\n",
    "        self.assign_taxi_to_customer()\n",
    "\n",
    "        customers_to_delete = []\n",
    "\n",
    "        for i, customer in enumerate(self.customers):\n",
    "            if customer.status == \"waiting\":\n",
    "                self._process_customer_waiting(customer)\n",
    "            elif customer.status == \"inside\":\n",
    "                self._process_customer_inside(customer)\n",
    "            elif customer.status == \"end\":\n",
    "                self.taxis[customer.assigned_taxi].status = \"free\"\n",
    "                customers_to_delete.append(i)\n",
    "        \n",
    "        for i in customers_to_delete[::-1]:\n",
    "            del self.customers[i]"
   ],
   "metadata": {
    "collapsed": false,
    "ExecuteTime": {
     "end_time": "2023-11-29T21:23:37.788429500Z",
     "start_time": "2023-11-29T21:23:37.746848114Z"
    }
   },
   "id": "6ab8b82ab466afce"
  },
  {
   "cell_type": "markdown",
   "source": [],
   "metadata": {
    "collapsed": false
   },
   "id": "bff4578a0cc898eb"
  },
  {
   "cell_type": "code",
   "execution_count": 497,
   "outputs": [],
   "source": [
    "v_corr = {}\n",
    "g = {}\n",
    "cnt = 0\n",
    "\n",
    "def add_line_1(line_start, line_end, position):\n",
    "    for i in range(line_start, line_end, 20):\n",
    "        v_corr[f\"{i} {position}\"] = (i, position)\n",
    "        g[f\"{i} {position}\"] = [f\"{i-20} {position}\", f\"{i} {position-20}\", f\"{i+20} {position}\", f\"{i} {position+20}\"]\n",
    "        \n",
    "def add_line_2(line_start, line_end, position):\n",
    "    for i in range(line_start, line_end, 20):\n",
    "        v_corr[f\"{position} {i}\"] = (position, i)\n",
    "        g[f\"{position} {i}\"] = [f\"{position-20} {i}\", f\"{position} {i-20}\", f\"{position+20} {i}\", f\"{position} {i+20}\"]\n",
    "    \n",
    "add_line_1(20, 620, 20)\n",
    "add_line_1(20, 620, 100)\n",
    "add_line_1(20, 620, 200)\n",
    "add_line_1(20, 160, 320)\n",
    "add_line_1(160, 640, 420)\n",
    "\n",
    "add_line_2(20, 320, 20)\n",
    "add_line_2(20, 420, 160)\n",
    "add_line_2(20, 420, 400)\n",
    "add_line_2(20, 420, 620)\n",
    "\n",
    "for x in g:\n",
    "    lst_to_remove = []\n",
    "    for i in range(4):\n",
    "        if g[x][i] not in g:\n",
    "            lst_to_remove.append(i)\n",
    "            \n",
    "    for i in lst_to_remove[::-1]:\n",
    "        del g[x][i]"
   ],
   "metadata": {
    "collapsed": false,
    "ExecuteTime": {
     "end_time": "2023-11-29T21:23:38.732311791Z",
     "start_time": "2023-11-29T21:23:38.690856438Z"
    }
   },
   "id": "83abf3967f437782"
  },
  {
   "cell_type": "code",
   "execution_count": 498,
   "outputs": [
    {
     "data": {
      "text/plain": "{'20 20': ['40 20', '20 40'],\n '40 20': ['20 20', '60 20'],\n '60 20': ['40 20', '80 20'],\n '80 20': ['60 20', '100 20'],\n '100 20': ['80 20', '120 20'],\n '120 20': ['100 20', '140 20'],\n '140 20': ['120 20', '160 20'],\n '160 20': ['140 20', '180 20', '160 40'],\n '180 20': ['160 20', '200 20'],\n '200 20': ['180 20', '220 20'],\n '220 20': ['200 20', '240 20'],\n '240 20': ['220 20', '260 20'],\n '260 20': ['240 20', '280 20'],\n '280 20': ['260 20', '300 20'],\n '300 20': ['280 20', '320 20'],\n '320 20': ['300 20', '340 20'],\n '340 20': ['320 20', '360 20'],\n '360 20': ['340 20', '380 20'],\n '380 20': ['360 20', '400 20'],\n '400 20': ['380 20', '420 20', '400 40'],\n '420 20': ['400 20', '440 20'],\n '440 20': ['420 20', '460 20'],\n '460 20': ['440 20', '480 20'],\n '480 20': ['460 20', '500 20'],\n '500 20': ['480 20', '520 20'],\n '520 20': ['500 20', '540 20'],\n '540 20': ['520 20', '560 20'],\n '560 20': ['540 20', '580 20'],\n '580 20': ['560 20', '600 20'],\n '600 20': ['580 20', '620 20'],\n '20 100': ['20 80', '40 100', '20 120'],\n '40 100': ['20 100', '60 100'],\n '60 100': ['40 100', '80 100'],\n '80 100': ['60 100', '100 100'],\n '100 100': ['80 100', '120 100'],\n '120 100': ['100 100', '140 100'],\n '140 100': ['120 100', '160 100'],\n '160 100': ['140 100', '160 80', '180 100', '160 120'],\n '180 100': ['160 100', '200 100'],\n '200 100': ['180 100', '220 100'],\n '220 100': ['200 100', '240 100'],\n '240 100': ['220 100', '260 100'],\n '260 100': ['240 100', '280 100'],\n '280 100': ['260 100', '300 100'],\n '300 100': ['280 100', '320 100'],\n '320 100': ['300 100', '340 100'],\n '340 100': ['320 100', '360 100'],\n '360 100': ['340 100', '380 100'],\n '380 100': ['360 100', '400 100'],\n '400 100': ['380 100', '400 80', '420 100', '400 120'],\n '420 100': ['400 100', '440 100'],\n '440 100': ['420 100', '460 100'],\n '460 100': ['440 100', '480 100'],\n '480 100': ['460 100', '500 100'],\n '500 100': ['480 100', '520 100'],\n '520 100': ['500 100', '540 100'],\n '540 100': ['520 100', '560 100'],\n '560 100': ['540 100', '580 100'],\n '580 100': ['560 100', '600 100'],\n '600 100': ['580 100', '620 100'],\n '20 200': ['20 180', '40 200', '20 220'],\n '40 200': ['20 200', '60 200'],\n '60 200': ['40 200', '80 200'],\n '80 200': ['60 200', '100 200'],\n '100 200': ['80 200', '120 200'],\n '120 200': ['100 200', '140 200'],\n '140 200': ['120 200', '160 200'],\n '160 200': ['140 200', '160 180', '180 200', '160 220'],\n '180 200': ['160 200', '200 200'],\n '200 200': ['180 200', '220 200'],\n '220 200': ['200 200', '240 200'],\n '240 200': ['220 200', '260 200'],\n '260 200': ['240 200', '280 200'],\n '280 200': ['260 200', '300 200'],\n '300 200': ['280 200', '320 200'],\n '320 200': ['300 200', '340 200'],\n '340 200': ['320 200', '360 200'],\n '360 200': ['340 200', '380 200'],\n '380 200': ['360 200', '400 200'],\n '400 200': ['380 200', '400 180', '420 200', '400 220'],\n '420 200': ['400 200', '440 200'],\n '440 200': ['420 200', '460 200'],\n '460 200': ['440 200', '480 200'],\n '480 200': ['460 200', '500 200'],\n '500 200': ['480 200', '520 200'],\n '520 200': ['500 200', '540 200'],\n '540 200': ['520 200', '560 200'],\n '560 200': ['540 200', '580 200'],\n '580 200': ['560 200', '600 200'],\n '600 200': ['580 200', '620 200'],\n '20 320': ['20 300', '40 320'],\n '40 320': ['20 320', '60 320'],\n '60 320': ['40 320', '80 320'],\n '80 320': ['60 320', '100 320'],\n '100 320': ['80 320', '120 320'],\n '120 320': ['100 320', '140 320'],\n '140 320': ['120 320', '160 320'],\n '160 420': ['160 400', '180 420'],\n '180 420': ['160 420', '200 420'],\n '200 420': ['180 420', '220 420'],\n '220 420': ['200 420', '240 420'],\n '240 420': ['220 420', '260 420'],\n '260 420': ['240 420', '280 420'],\n '280 420': ['260 420', '300 420'],\n '300 420': ['280 420', '320 420'],\n '320 420': ['300 420', '340 420'],\n '340 420': ['320 420', '360 420'],\n '360 420': ['340 420', '380 420'],\n '380 420': ['360 420', '400 420'],\n '400 420': ['380 420', '400 400', '420 420'],\n '420 420': ['400 420', '440 420'],\n '440 420': ['420 420', '460 420'],\n '460 420': ['440 420', '480 420'],\n '480 420': ['460 420', '500 420'],\n '500 420': ['480 420', '520 420'],\n '520 420': ['500 420', '540 420'],\n '540 420': ['520 420', '560 420'],\n '560 420': ['540 420', '580 420'],\n '580 420': ['560 420', '600 420'],\n '600 420': ['580 420', '620 420'],\n '620 420': ['600 420', '620 400'],\n '20 40': ['20 20', '20 60'],\n '20 60': ['20 40', '20 80'],\n '20 80': ['20 60', '20 100'],\n '20 120': ['20 100', '20 140'],\n '20 140': ['20 120', '20 160'],\n '20 160': ['20 140', '20 180'],\n '20 180': ['20 160', '20 200'],\n '20 220': ['20 200', '20 240'],\n '20 240': ['20 220', '20 260'],\n '20 260': ['20 240', '20 280'],\n '20 280': ['20 260', '20 300'],\n '20 300': ['20 280', '20 320'],\n '160 40': ['160 20', '160 60'],\n '160 60': ['160 40', '160 80'],\n '160 80': ['160 60', '160 100'],\n '160 120': ['160 100', '160 140'],\n '160 140': ['160 120', '160 160'],\n '160 160': ['160 140', '160 180'],\n '160 180': ['160 160', '160 200'],\n '160 220': ['160 200', '160 240'],\n '160 240': ['160 220', '160 260'],\n '160 260': ['160 240', '160 280'],\n '160 280': ['160 260', '160 300'],\n '160 300': ['160 280', '160 320'],\n '160 320': ['140 320', '160 300', '160 340'],\n '160 340': ['160 320', '160 360'],\n '160 360': ['160 340', '160 380'],\n '160 380': ['160 360', '160 400'],\n '160 400': ['160 380', '160 420'],\n '400 40': ['400 20', '400 60'],\n '400 60': ['400 40', '400 80'],\n '400 80': ['400 60', '400 100'],\n '400 120': ['400 100', '400 140'],\n '400 140': ['400 120', '400 160'],\n '400 160': ['400 140', '400 180'],\n '400 180': ['400 160', '400 200'],\n '400 220': ['400 200', '400 240'],\n '400 240': ['400 220', '400 260'],\n '400 260': ['400 240', '400 280'],\n '400 280': ['400 260', '400 300'],\n '400 300': ['400 280', '400 320'],\n '400 320': ['400 300', '400 340'],\n '400 340': ['400 320', '400 360'],\n '400 360': ['400 340', '400 380'],\n '400 380': ['400 360', '400 400'],\n '400 400': ['400 380', '400 420'],\n '620 20': ['600 20', '620 40'],\n '620 40': ['620 20', '620 60'],\n '620 60': ['620 40', '620 80'],\n '620 80': ['620 60', '620 100'],\n '620 100': ['600 100', '620 80', '620 120'],\n '620 120': ['620 100', '620 140'],\n '620 140': ['620 120', '620 160'],\n '620 160': ['620 140', '620 180'],\n '620 180': ['620 160', '620 200'],\n '620 200': ['600 200', '620 180', '620 220'],\n '620 220': ['620 200', '620 240'],\n '620 240': ['620 220', '620 260'],\n '620 260': ['620 240', '620 280'],\n '620 280': ['620 260', '620 300'],\n '620 300': ['620 280', '620 320'],\n '620 320': ['620 300', '620 340'],\n '620 340': ['620 320', '620 360'],\n '620 360': ['620 340', '620 380'],\n '620 380': ['620 360', '620 400'],\n '620 400': ['620 380', '620 420']}"
     },
     "execution_count": 498,
     "metadata": {},
     "output_type": "execute_result"
    }
   ],
   "source": [
    "g"
   ],
   "metadata": {
    "collapsed": false,
    "ExecuteTime": {
     "end_time": "2023-11-29T21:23:39.920931112Z",
     "start_time": "2023-11-29T21:23:39.917598101Z"
    }
   },
   "id": "38dac5a3ebeaddcb"
  },
  {
   "cell_type": "code",
   "execution_count": 498,
   "outputs": [],
   "source": [],
   "metadata": {
    "collapsed": false,
    "ExecuteTime": {
     "end_time": "2023-11-29T21:23:40.312284490Z",
     "start_time": "2023-11-29T21:23:40.303747166Z"
    }
   },
   "id": "211374eb770088bc"
  },
  {
   "cell_type": "code",
   "execution_count": 499,
   "outputs": [],
   "source": [
    "markers = [\"<\", \">\", \"p\", \"h\"]\n",
    "colors = [\"r\", \"y\", \"g\"]"
   ],
   "metadata": {
    "collapsed": false,
    "ExecuteTime": {
     "end_time": "2023-11-29T21:23:40.573624625Z",
     "start_time": "2023-11-29T21:23:40.568121181Z"
    }
   },
   "id": "b427aea1a2db7a39"
  },
  {
   "cell_type": "code",
   "execution_count": 500,
   "outputs": [],
   "source": [
    "# for _ in range(2):\n",
    "#     plt.scatter(*zip(*vertex_coordinates.values()))\n",
    "#     for m, t, c in zip(markers, ts.taxis, colors):\n",
    "#         plt.scatter(*zip(*[vertex_coordinates[ts.taxis[t].current_vertex]]), marker=m, facecolors='none', edgecolors=c)\n",
    "#     plt.xlim([-1.2, 1.2])\n",
    "#     plt.ylim([-0.2, 1.2])\n",
    "#     plt.show()\n",
    "#     \n",
    "#     ts.make_step()"
   ],
   "metadata": {
    "collapsed": false,
    "ExecuteTime": {
     "end_time": "2023-11-29T21:23:40.865167637Z",
     "start_time": "2023-11-29T21:23:40.862431177Z"
    }
   },
   "id": "94ce5e3bb51bdb3e"
  },
  {
   "cell_type": "code",
   "execution_count": 502,
   "outputs": [
    {
     "name": "stdout",
     "output_type": "stream",
     "text": [
      "25\n",
      "24\n",
      "23\n",
      "22\n",
      "21\n",
      "20\n",
      "19\n",
      "18\n",
      "17\n",
      "16\n",
      "15\n",
      "14\n",
      "13\n",
      "12\n",
      "11\n",
      "10\n",
      "9\n",
      "8\n",
      "7\n",
      "6\n",
      "5\n",
      "4\n",
      "3\n",
      "2\n",
      "1\n",
      "0\n",
      "0\n",
      "0\n",
      "0\n",
      "0\n",
      "0\n",
      "0\n",
      "0\n",
      "0\n",
      "0\n",
      "0\n",
      "0\n",
      "0\n",
      "0\n",
      "0\n",
      "0\n",
      "0\n",
      "0\n",
      "0\n",
      "0\n",
      "0\n",
      "0\n",
      "0\n",
      "0\n",
      "0\n",
      "0\n",
      "0\n",
      "0\n",
      "0\n",
      "0\n",
      "0\n",
      "0\n",
      "0\n",
      "0\n",
      "0\n",
      "0\n",
      "0\n"
     ]
    },
    {
     "ename": "IndexError",
     "evalue": "list index out of range",
     "output_type": "error",
     "traceback": [
      "\u001B[0;31m---------------------------------------------------------------------------\u001B[0m",
      "\u001B[0;31mIndexError\u001B[0m                                Traceback (most recent call last)",
      "Cell \u001B[0;32mIn[502], line 49\u001B[0m\n\u001B[1;32m     47\u001B[0m                 ts\u001B[38;5;241m.\u001B[39mmake_step()\n\u001B[1;32m     48\u001B[0m                 draw(screen, v_corr)\n\u001B[0;32m---> 49\u001B[0m                 \u001B[38;5;28mprint\u001B[39m(\u001B[38;5;28mlen\u001B[39m(\u001B[43mts\u001B[49m\u001B[38;5;241;43m.\u001B[39;49m\u001B[43mcustomers\u001B[49m\u001B[43m[\u001B[49m\u001B[38;5;241;43m0\u001B[39;49m\u001B[43m]\u001B[49m\u001B[38;5;241m.\u001B[39mpickup_path))\n\u001B[1;32m     52\u001B[0m pygame\u001B[38;5;241m.\u001B[39mquit()\n",
      "\u001B[0;31mIndexError\u001B[0m: list index out of range"
     ]
    }
   ],
   "source": [
    "pygame.init()\n",
    "# Parameters\n",
    "w_width = 800\n",
    "w_height = 800\n",
    "# Set up the drawing window, adjust the size\n",
    "screen = pygame.display.set_mode([w_width, w_height])\n",
    "\n",
    "# Set background\n",
    "screen.fill((255, 255, 255))\n",
    "\n",
    "ts = TaxiService(g)\n",
    "\n",
    "\n",
    "def draw(screen, v_cor):\n",
    "    block_size = 20\n",
    "    \n",
    "    for i, j in v_cor.values():\n",
    "        rect = pygame.Rect(i, j, block_size - 1, block_size - 1)\n",
    "        pygame.draw.rect(screen, (210, 210, 210), rect, 0)\n",
    "        \n",
    "    for taxi in ts.taxis.values():\n",
    "        i, j = v_corr[taxi.current_vertex]\n",
    "        rect = pygame.Rect(i + 7, j + 7, block_size - 15, block_size - 15)\n",
    "        pygame.draw.rect(screen, (210, 150, 10), rect, 0)\n",
    "    \n",
    "    for customer in ts.customers:\n",
    "        i, j = v_corr[customer.current_vertex]\n",
    "        rect = pygame.Rect(i + 2, j + 2, block_size - 15, block_size - 15)\n",
    "        pygame.draw.rect(screen, (100, 150, 10), rect, 0)\n",
    "        \n",
    "    pygame.display.flip()\n",
    "\n",
    "draw(screen, v_corr)\n",
    "running = True\n",
    "\n",
    "time_delay = 200 # 0.2 s\n",
    "timer_event = pygame.USEREVENT + 1\n",
    "pygame.time.set_timer(timer_event, time_delay )\n",
    "\n",
    "while running:\n",
    "    for event in pygame.event.get():   \n",
    "        if event.type == QUIT:\n",
    "            running = False\n",
    "\n",
    "        if event.type == KEYDOWN:\n",
    "            if event.key == K_RIGHT:\n",
    "                ts.make_step()\n",
    "                draw(screen, v_corr)\n",
    "\n",
    "pygame.quit()"
   ],
   "metadata": {
    "collapsed": false,
    "ExecuteTime": {
     "end_time": "2023-11-29T21:24:06.015860861Z",
     "start_time": "2023-11-29T21:23:47.809183845Z"
    }
   },
   "id": "fe4e9a4f0fc6aef3"
  },
  {
   "cell_type": "code",
   "execution_count": 494,
   "outputs": [],
   "source": [
    "ts.make_step()"
   ],
   "metadata": {
    "collapsed": false,
    "ExecuteTime": {
     "end_time": "2023-11-29T21:23:07.088926195Z",
     "start_time": "2023-11-29T21:23:07.083389141Z"
    }
   },
   "id": "9c73ebb082005723"
  },
  {
   "cell_type": "code",
   "execution_count": 495,
   "outputs": [
    {
     "data": {
      "text/plain": "'240 200'"
     },
     "execution_count": 495,
     "metadata": {},
     "output_type": "execute_result"
    }
   ],
   "source": [
    "ts.customers[0].current_vertex"
   ],
   "metadata": {
    "collapsed": false,
    "ExecuteTime": {
     "end_time": "2023-11-29T21:23:07.241063079Z",
     "start_time": "2023-11-29T21:23:07.237633373Z"
    }
   },
   "id": "b5ac9674cfa8f057"
  },
  {
   "cell_type": "code",
   "execution_count": 484,
   "outputs": [
    {
     "data": {
      "text/plain": "'400 180'"
     },
     "execution_count": 484,
     "metadata": {},
     "output_type": "execute_result"
    }
   ],
   "source": [
    "ts.customers[0].pickup_path[0]"
   ],
   "metadata": {
    "collapsed": false,
    "ExecuteTime": {
     "end_time": "2023-11-29T21:21:39.577801830Z",
     "start_time": "2023-11-29T21:21:39.572330670Z"
    }
   },
   "id": "aabf1e4ed04d6a35"
  },
  {
   "cell_type": "code",
   "execution_count": 486,
   "outputs": [
    {
     "data": {
      "text/plain": "'400 180'"
     },
     "execution_count": 486,
     "metadata": {},
     "output_type": "execute_result"
    }
   ],
   "source": [
    "ts.taxis[\"11111\"].current_vertex"
   ],
   "metadata": {
    "collapsed": false,
    "ExecuteTime": {
     "end_time": "2023-11-29T21:21:42.192245042Z",
     "start_time": "2023-11-29T21:21:42.188560056Z"
    }
   },
   "id": "6237e16b63506332"
  },
  {
   "cell_type": "code",
   "execution_count": null,
   "outputs": [],
   "source": [],
   "metadata": {
    "collapsed": false
   },
   "id": "c85ee3362b46f932"
  }
 ],
 "metadata": {
  "kernelspec": {
   "display_name": "Python 3",
   "language": "python",
   "name": "python3"
  },
  "language_info": {
   "codemirror_mode": {
    "name": "ipython",
    "version": 2
   },
   "file_extension": ".py",
   "mimetype": "text/x-python",
   "name": "python",
   "nbconvert_exporter": "python",
   "pygments_lexer": "ipython2",
   "version": "2.7.6"
  }
 },
 "nbformat": 4,
 "nbformat_minor": 5
}
