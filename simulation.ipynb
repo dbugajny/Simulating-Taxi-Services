{
 "cells": [
  {
   "cell_type": "code",
   "execution_count": 1,
   "outputs": [
    {
     "name": "stdout",
     "output_type": "stream",
     "text": [
      "pygame 2.5.2 (SDL 2.28.3, Python 3.10.9)\n",
      "Hello from the pygame community. https://www.pygame.org/contribute.html\n"
     ]
    }
   ],
   "source": [
    "import pygame\n",
    "\n",
    "from pygame.locals import (\n",
    "    K_RIGHT,\n",
    "    KEYDOWN,\n",
    "    QUIT,\n",
    ")\n",
    "from taxi_service_model import TaxiService"
   ],
   "metadata": {
    "collapsed": false,
    "ExecuteTime": {
     "end_time": "2023-12-29T19:44:41.449954Z",
     "start_time": "2023-12-29T19:44:41.309781Z"
    }
   },
   "id": "848051e5f083bd93"
  },
  {
   "cell_type": "code",
   "execution_count": 2,
   "outputs": [],
   "source": [
    "v_corr = {}\n",
    "g = {}\n",
    "cnt = 0\n",
    "BLOCK_SIZE = 10\n",
    "\n",
    "def add_line_horizontal(line_start, line_end, position):\n",
    "    for i in range(line_start, line_end,  BLOCK_SIZE):\n",
    "        v_corr[f\"{i} {position}\"] = (i, position)\n",
    "        g[f\"{i} {position}\"] = (\n",
    "            [\n",
    "                f\"{i- BLOCK_SIZE} {position}\",\n",
    "                f\"{i} {position- BLOCK_SIZE}\",\n",
    "                f\"{i+ BLOCK_SIZE} {position}\",\n",
    "                f\"{i} {position+ BLOCK_SIZE}\"\n",
    "            ]\n",
    "        )\n",
    "\n",
    "\n",
    "def add_line_vertical(line_start, line_end, position):\n",
    "    for i in range(line_start, line_end,   BLOCK_SIZE):\n",
    "        v_corr[f\"{position} {i}\"] = (position, i)\n",
    "        g[f\"{position} {i}\"] = (\n",
    "            [\n",
    "                f\"{position-  BLOCK_SIZE} {i}\",\n",
    "                f\"{position} {i-  BLOCK_SIZE}\",\n",
    "                f\"{position+  BLOCK_SIZE} {i}\",\n",
    "                f\"{position} {i+ BLOCK_SIZE}\"\n",
    "            ]\n",
    "        )\n"
   ],
   "metadata": {
    "collapsed": false,
    "ExecuteTime": {
     "end_time": "2023-12-29T19:44:41.571366Z",
     "start_time": "2023-12-29T19:44:41.566272Z"
    }
   },
   "id": "ff3f16e32a937c5a"
  },
  {
   "cell_type": "code",
   "execution_count": 3,
   "outputs": [],
   "source": [
    "h = 250\n",
    "v = 400"
   ],
   "metadata": {
    "collapsed": false,
    "ExecuteTime": {
     "end_time": "2023-12-29T19:44:42.040256Z",
     "start_time": "2023-12-29T19:44:42.034021Z"
    }
   },
   "id": "1d161d5249f53968"
  },
  {
   "cell_type": "code",
   "execution_count": 4,
   "outputs": [],
   "source": [
    "# # Horizontal:\n",
    "add_line_horizontal((260 - h) * 2, (425 - h) * 2, (465 - v) * 2)  # 262, 466 - 427, 466 \n",
    "add_line_horizontal((645 - h) * 2, (835 - h) * 2, (465 - v) * 2)  # 642, 466 - 836, 466\n",
    "add_line_horizontal((260 - h) * 2, (835 - h) * 2, (485 - v) * 2)  # 262, 484 - 837, 484\n",
    "add_line_horizontal((260 - h) * 2, (835 - h) * 2, (485 - v) * 2)  # 262, 502 - 642, 502 \n",
    "add_line_horizontal((640 - h) * 2, (835 - h) * 2, (515 - v) * 2)  # 642, 515 - 836, 515\n",
    "add_line_horizontal((260 - h) * 2, (835 - h) * 2, (520 - v) * 2)  # 262, 522 - 836, 522\n",
    "add_line_horizontal((640 - h) * 2, (835 - h) * 2, (540 - v) * 2)  # 642, 543 - 836, 543\n",
    "add_line_horizontal((260 - h) * 2, (835 - h) * 2, (560 - v) * 2)  # 642, 562 - 836, 562\n",
    "add_line_horizontal((260 - h) * 2, (355 - h) * 2, (540 - v) * 2)  # 262, 540 - 355, 540\n",
    "add_line_horizontal((260 - h) * 2, (355 - h) * 2, (560 - v) * 2)  # 262, 560 - 355, 560\n",
    "add_line_horizontal((260 - h) * 2, (675 - h) * 2, (580 - v) * 2)  # 262, 580 - 675, 580\n",
    "add_line_horizontal((260 - h) * 2, (780 - h) * 2, (580 - v) * 2)  # 262, 592 - 782, 592\n",
    "add_line_horizontal((260 - h) * 2, (730 - h) * 2, (600 - v) * 2)  # 262, 603 - 725, 603 \n",
    "add_line_horizontal((260 - h) * 2, (730 - h) * 2, (615 - v) * 2)  # 262, 613 - 745, 613\n",
    "add_line_horizontal((260 - h) * 2, (730 - h) * 2, (625 - v) * 2)  # 262, 624 - 725, 624\n",
    "add_line_horizontal((260 - h) * 2, (730 - h) * 2, (640 - v) * 2)  # 262, 638 - 725, 638\n",
    "add_line_horizontal((260 - h) * 2, (730 - h) * 2, (655 - v) * 2)  # 262, 654 - 725, 654\n",
    "add_line_horizontal((470 - h) * 2, (480 - h) * 2, (530 - v) * 2)  # 468, 530 - 479, 530"
   ],
   "metadata": {
    "collapsed": false,
    "ExecuteTime": {
     "end_time": "2023-12-29T19:44:42.367098Z",
     "start_time": "2023-12-29T19:44:42.364309Z"
    }
   },
   "id": "198aec199aaffebb"
  },
  {
   "cell_type": "code",
   "execution_count": 5,
   "outputs": [],
   "source": [
    "# Vertical:\n",
    "add_line_vertical((465 - v) * 2, (565 - v) * 2, (835 - h) * 2)  # 836, 466 - 836, 562\n",
    "add_line_vertical((465 - v) * 2, (485 - v) * 2, (780 - h) * 2)  # 782, 466 - 782, 484 \n",
    "add_line_vertical((515 - v) * 2, (585 - v) * 2, (780 - h) * 2)  # 782, 515 - 782, 592\n",
    "add_line_vertical((465 - v) * 2, (655 - v) * 2, (725 - h) * 2)  # 725, 466 - 725, 654\n",
    "add_line_vertical((525 - v) * 2, (655 - v) * 2, (675 - h) * 2)  # 675, 525 - 675, 654\n",
    "add_line_vertical((465 - v) * 2, (580 - v) * 2, (640 - h) * 2)  # 642, 466 - 642, 580\n",
    "add_line_vertical((580 - v) * 2, (655 - v) * 2, (620 - h) * 2)  # 618, 580 - 618, 654\n",
    "add_line_vertical((580 - v) * 2, (480 - v) * 2, (595 - h) * 2)  # 595, 580 - 595, 654\n",
    "add_line_vertical((485 - v) * 2, (480 - v) * 2, (565 - h) * 2)  # 563, 484 - 563, 654\n",
    "add_line_vertical((485 - v) * 2, (480 - v) * 2, (510 - h) * 2)  # 508, 484 - 508, 654\n",
    "add_line_vertical((485 - v) * 2, (530 - v) * 2, (480 - h) * 2)  # 479, 484 - 479, 530\n",
    "add_line_vertical((485 - v) * 2, (500 - v) * 2, (470 - h) * 2)  # 468, 484 - 468, 502 \n",
    "add_line_vertical((530 - v) * 2, (655 - v) * 2, (470 - h) * 2)  # 468, 530 - 468, 654\n",
    "add_line_vertical((465 - v) * 2, (520 - v) * 2, (425 - h) * 2)  # 427, 466 - 427, 522 \n",
    "add_line_vertical((580 - v) * 2, (655 - v) * 2, (425 - h) * 2)  # 427, 580 - 427, 654\n",
    "add_line_vertical((485 - v) * 2, (485 - v) * 2, (395 - h) * 2)  # 395, 484 - 395, 522 \n",
    "add_line_vertical((580 - v) * 2, (580 - v) * 2, (395 - h) * 2)  # 395, 580 - 395, 624\n",
    "add_line_vertical((465 - v) * 2, (625 - v) * 2, (390 - h) * 2)  # 390, 466 - 390, 624\n",
    "add_line_vertical((580 - v) * 2, (655 - v) * 2, (370 - h) * 2)  # 371, 580 - 371, 654\n",
    "add_line_vertical((580 - v) * 2, (655 - v) * 2, (365 - h) * 2)  # 365, 580 - 365, 654\n",
    "add_line_vertical((580 - v) * 2, (640 - v) * 2, (360 - h) * 2)  # 359, 580 - 359, 638\n",
    "add_line_vertical((520 - v) * 2, (640 - v) * 2, (355 - h) * 2)  # 354, 522 - 354, 638\n",
    "add_line_vertical((465 - v) * 2, (655 - v) * 2, (345 - h) * 2)  # 345, 466 - 345, 654\n",
    "add_line_vertical((465 - v) * 2, (655 - v) * 2, (260 - h) * 2)  # 262, 466 - 262, 654"
   ],
   "metadata": {
    "collapsed": false,
    "ExecuteTime": {
     "end_time": "2023-12-29T19:44:42.776383Z",
     "start_time": "2023-12-29T19:44:42.765243Z"
    }
   },
   "id": "c7392b3d39a85de8"
  },
  {
   "cell_type": "code",
   "execution_count": 6,
   "outputs": [],
   "source": [
    "for k in g:\n",
    "    lst_to_remove = []\n",
    "    for l in range(4):\n",
    "        if g[k][l] not in g:\n",
    "            lst_to_remove.append(l)\n",
    "\n",
    "    for l in lst_to_remove[::-1]:\n",
    "        del g[k][l]"
   ],
   "metadata": {
    "collapsed": false,
    "ExecuteTime": {
     "end_time": "2023-12-29T19:44:43.170884Z",
     "start_time": "2023-12-29T19:44:43.166030Z"
    }
   },
   "id": "7dfe21488f82fe7b"
  },
  {
   "cell_type": "code",
   "execution_count": 7,
   "outputs": [
    {
     "ename": "KeyError",
     "evalue": "'2'",
     "output_type": "error",
     "traceback": [
      "\u001B[0;31m---------------------------------------------------------------------------\u001B[0m",
      "\u001B[0;31mKeyError\u001B[0m                                  Traceback (most recent call last)",
      "Cell \u001B[0;32mIn[7], line 54\u001B[0m\n\u001B[1;32m     51\u001B[0m                 draw(screen, v_corr, ts\u001B[38;5;241m.\u001B[39mtime)\n\u001B[1;32m     53\u001B[0m         \u001B[38;5;28;01mif\u001B[39;00m event\u001B[38;5;241m.\u001B[39mtype \u001B[38;5;241m==\u001B[39m timer_event:\n\u001B[0;32m---> 54\u001B[0m                 \u001B[43mts\u001B[49m\u001B[38;5;241;43m.\u001B[39;49m\u001B[43mmake_step\u001B[49m\u001B[43m(\u001B[49m\u001B[43m)\u001B[49m\n\u001B[1;32m     55\u001B[0m                 draw(screen, v_corr, ts\u001B[38;5;241m.\u001B[39mtime)\n\u001B[1;32m     57\u001B[0m pygame\u001B[38;5;241m.\u001B[39mquit()\n",
      "File \u001B[0;32m~/Desktop/AGH/Simulating-Taxi-Services/taxi_service_model.py:180\u001B[0m, in \u001B[0;36mTaxiService.make_step\u001B[0;34m(self)\u001B[0m\n\u001B[1;32m    178\u001B[0m \u001B[38;5;28mself\u001B[39m\u001B[38;5;241m.\u001B[39mgenerate_new_customers()\n\u001B[1;32m    179\u001B[0m \u001B[38;5;28mself\u001B[39m\u001B[38;5;241m.\u001B[39mgenerate_new_taxi()\n\u001B[0;32m--> 180\u001B[0m \u001B[38;5;28;43mself\u001B[39;49m\u001B[38;5;241;43m.\u001B[39;49m\u001B[43massign_taxis_to_customers\u001B[49m\u001B[43m(\u001B[49m\u001B[43m)\u001B[49m\n\u001B[1;32m    182\u001B[0m customers_to_delete \u001B[38;5;241m=\u001B[39m []\n\u001B[1;32m    184\u001B[0m \u001B[38;5;28;01mfor\u001B[39;00m i, customer \u001B[38;5;129;01min\u001B[39;00m \u001B[38;5;28menumerate\u001B[39m(\u001B[38;5;28mself\u001B[39m\u001B[38;5;241m.\u001B[39mcustomers):\n",
      "File \u001B[0;32m~/Desktop/AGH/Simulating-Taxi-Services/taxi_service_model.py:41\u001B[0m, in \u001B[0;36mTaxiService.assign_taxis_to_customers\u001B[0;34m(self)\u001B[0m\n\u001B[1;32m     39\u001B[0m \u001B[38;5;28;01mif\u001B[39;00m customer\u001B[38;5;241m.\u001B[39mstatus \u001B[38;5;241m!=\u001B[39m CustomerStatus\u001B[38;5;241m.\u001B[39mNO_TAXI:\n\u001B[1;32m     40\u001B[0m     \u001B[38;5;28;01mcontinue\u001B[39;00m\n\u001B[0;32m---> 41\u001B[0m taxi_id, pickup_path \u001B[38;5;241m=\u001B[39m \u001B[38;5;28;43mself\u001B[39;49m\u001B[38;5;241;43m.\u001B[39;49m\u001B[43mfind_closest_taxi\u001B[49m\u001B[43m(\u001B[49m\u001B[43mcustomer\u001B[49m\u001B[38;5;241;43m.\u001B[39;49m\u001B[43mcurrent_vertex\u001B[49m\u001B[43m)\u001B[49m\n\u001B[1;32m     42\u001B[0m \u001B[38;5;28;01mif\u001B[39;00m taxi_id:\n\u001B[1;32m     43\u001B[0m     customer\u001B[38;5;241m.\u001B[39massigned_taxi \u001B[38;5;241m=\u001B[39m taxi_id\n",
      "File \u001B[0;32m~/Desktop/AGH/Simulating-Taxi-Services/taxi_service_model.py:72\u001B[0m, in \u001B[0;36mTaxiService.find_closest_taxi\u001B[0;34m(self, customer_vertex)\u001B[0m\n\u001B[1;32m     70\u001B[0m processed_vertex \u001B[38;5;241m=\u001B[39m queue\u001B[38;5;241m.\u001B[39mpop(\u001B[38;5;241m0\u001B[39m)\n\u001B[1;32m     71\u001B[0m \u001B[38;5;28;01mfor\u001B[39;00m taxi \u001B[38;5;129;01min\u001B[39;00m \u001B[38;5;28mself\u001B[39m\u001B[38;5;241m.\u001B[39mtaxis_in_vertices[processed_vertex]:\n\u001B[0;32m---> 72\u001B[0m     \u001B[38;5;28;01mif\u001B[39;00m \u001B[38;5;28;43mself\u001B[39;49m\u001B[38;5;241;43m.\u001B[39;49m\u001B[43mtaxis\u001B[49m\u001B[43m[\u001B[49m\u001B[43mtaxi\u001B[49m\u001B[43m]\u001B[49m\u001B[38;5;241m.\u001B[39mstatus \u001B[38;5;241m==\u001B[39m TaxiStatus\u001B[38;5;241m.\u001B[39mFREE:\n\u001B[1;32m     73\u001B[0m         path \u001B[38;5;241m=\u001B[39m \u001B[38;5;28mself\u001B[39m\u001B[38;5;241m.\u001B[39m_create_path(processed_vertex, predecessors)\n\u001B[1;32m     74\u001B[0m         \u001B[38;5;28;01mreturn\u001B[39;00m taxi, path\n",
      "\u001B[0;31mKeyError\u001B[0m: '2'"
     ]
    }
   ],
   "source": [
    "pygame.init()\n",
    "# Parameters\n",
    "w_width = 1200\n",
    "w_height = 600\n",
    "# Set up the drawing window, adjust the size\n",
    "screen = pygame.display.set_mode([w_width, w_height])\n",
    "\n",
    "# Set background\n",
    "screen.fill((255, 255, 255))\n",
    "\n",
    "ts = TaxiService(g)\n",
    "\n",
    "\n",
    "def draw(screen, v_cor, time):\n",
    "    text = pygame.font.Font(None, 48).render(f\"{time[0]:02d}:{time[1]:02d}\", True, (10, 10, 10), (255, 255, 255))\n",
    "    text_rect = text.get_rect()\n",
    "    text_rect.center = (100, 80)\n",
    "    screen.blit(text, text_rect)\n",
    "\n",
    "    for i, j in v_cor.values():\n",
    "        rect = pygame.Rect(i, j,  BLOCK_SIZE - 1,  BLOCK_SIZE - 1)\n",
    "        pygame.draw.rect(screen, (210, 210, 210), rect, 0)\n",
    "\n",
    "    for taxi in ts.taxis.values():\n",
    "        i, j = v_corr[taxi.current_vertex]\n",
    "        rect = pygame.Rect(i, j,  BLOCK_SIZE - 6,  BLOCK_SIZE - 6)\n",
    "        pygame.draw.rect(screen, (210, 150, 10), rect, 0)\n",
    "\n",
    "    for customer in ts.customers:\n",
    "        i, j = v_corr[customer.current_vertex]\n",
    "        rect = pygame.Rect(i + 5, j + 5,  BLOCK_SIZE - 6,  BLOCK_SIZE - 6)\n",
    "        pygame.draw.rect(screen, (100, 150, 10), rect, 0)\n",
    "\n",
    "    pygame.display.flip()\n",
    "\n",
    "draw(screen, v_corr, ts.time)\n",
    "running = True\n",
    "\n",
    "time_delay = 10\n",
    "timer_event = pygame.USEREVENT + 1\n",
    "pygame.time.set_timer(timer_event, time_delay)\n",
    "\n",
    "while running:\n",
    "    for event in pygame.event.get():\n",
    "        if event.type == QUIT:\n",
    "            running = False\n",
    "\n",
    "        if event.type == KEYDOWN:\n",
    "            if event.key == K_RIGHT:\n",
    "                ts.make_step()\n",
    "                draw(screen, v_corr, ts.time)\n",
    "\n",
    "        if event.type == timer_event:\n",
    "                ts.make_step()\n",
    "                draw(screen, v_corr, ts.time)\n",
    "    \n",
    "pygame.quit()"
   ],
   "metadata": {
    "collapsed": false,
    "ExecuteTime": {
     "end_time": "2023-12-29T19:44:50.019779Z",
     "start_time": "2023-12-29T19:44:43.542869Z"
    }
   },
   "id": "fe4e9a4f0fc6aef3"
  },
  {
   "cell_type": "code",
   "execution_count": null,
   "outputs": [],
   "source": [],
   "metadata": {
    "collapsed": false
   },
   "id": "85ffb62914d009b8"
  },
  {
   "cell_type": "code",
   "execution_count": 21,
   "outputs": [
    {
     "data": {
      "text/plain": "42465"
     },
     "execution_count": 21,
     "metadata": {},
     "output_type": "execute_result"
    }
   ],
   "source": [
    "ts.taxis[\"1\"].working_time"
   ],
   "metadata": {
    "collapsed": false,
    "ExecuteTime": {
     "end_time": "2023-12-29T19:44:20.460319Z",
     "start_time": "2023-12-29T19:44:20.454593Z"
    }
   },
   "id": "649fb60382a310f0"
  },
  {
   "cell_type": "code",
   "execution_count": 10,
   "outputs": [],
   "source": [
    "from collections import defaultdict\n",
    "a = defaultdict(int)"
   ],
   "metadata": {
    "collapsed": false,
    "ExecuteTime": {
     "end_time": "2023-12-29T19:43:03.618685Z",
     "start_time": "2023-12-29T19:43:03.601701Z"
    }
   },
   "id": "e62971a55968297d"
  },
  {
   "cell_type": "code",
   "execution_count": 15,
   "outputs": [],
   "source": [
    "a[5] += a[5]"
   ],
   "metadata": {
    "collapsed": false,
    "ExecuteTime": {
     "end_time": "2023-12-29T19:43:41.966007Z",
     "start_time": "2023-12-29T19:43:41.962374Z"
    }
   },
   "id": "596999ae0079da74"
  },
  {
   "cell_type": "code",
   "execution_count": 17,
   "outputs": [
    {
     "data": {
      "text/plain": "dict_items([(0, 1), (4, 0), (5, 0)])"
     },
     "execution_count": 17,
     "metadata": {},
     "output_type": "execute_result"
    }
   ],
   "source": [
    "a.items()"
   ],
   "metadata": {
    "collapsed": false,
    "ExecuteTime": {
     "end_time": "2023-12-29T19:43:47.003852Z",
     "start_time": "2023-12-29T19:43:46.999258Z"
    }
   },
   "id": "642b9d32d18dd7fd"
  },
  {
   "cell_type": "code",
   "execution_count": null,
   "outputs": [],
   "source": [],
   "metadata": {
    "collapsed": false
   },
   "id": "9097d1ffe5511eef"
  }
 ],
 "metadata": {
  "kernelspec": {
   "display_name": "Python 3",
   "language": "python",
   "name": "python3"
  },
  "language_info": {
   "codemirror_mode": {
    "name": "ipython",
    "version": 2
   },
   "file_extension": ".py",
   "mimetype": "text/x-python",
   "name": "python",
   "nbconvert_exporter": "python",
   "pygments_lexer": "ipython2",
   "version": "2.7.6"
  }
 },
 "nbformat": 4,
 "nbformat_minor": 5
}
