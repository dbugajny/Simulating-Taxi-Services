{
 "cells": [
  {
   "cell_type": "code",
   "execution_count": null,
   "outputs": [],
   "source": [
    "import matplotlib.pyplot as plt\n",
    "import pygame\n",
    "\n",
    "from pygame.locals import (\n",
    "    K_RIGHT,\n",
    "    KEYDOWN,\n",
    "    QUIT,\n",
    ")\n",
    "from taxi_service_model import TaxiService\n",
    "import seaborn as sns\n",
    "import matplotlib.pyplot as plt\n",
    "import numpy as np\n",
    "from taxi_service_model import CUSTOMERS_TO_TAXIS_RATIO"
   ],
   "metadata": {
    "collapsed": false
   },
   "id": "848051e5f083bd93"
  },
  {
   "cell_type": "code",
   "execution_count": null,
   "outputs": [],
   "source": [
    "v_corr = {}\n",
    "g = {}\n",
    "cnt = 0\n",
    "BLOCK_SIZE = 10\n",
    "\n",
    "def add_line_horizontal(line_start, line_end, position):\n",
    "    for i in range(line_start, line_end,  BLOCK_SIZE):\n",
    "        v_corr[f\"{i} {position}\"] = (i, position)\n",
    "        g[f\"{i} {position}\"] = (\n",
    "            [\n",
    "                f\"{i- BLOCK_SIZE} {position}\",\n",
    "                f\"{i} {position- BLOCK_SIZE}\",\n",
    "                f\"{i+ BLOCK_SIZE} {position}\",\n",
    "                f\"{i} {position+ BLOCK_SIZE}\"\n",
    "            ]\n",
    "        )\n",
    "\n",
    "\n",
    "def add_line_vertical(line_start, line_end, position):\n",
    "    for i in range(line_start, line_end,   BLOCK_SIZE):\n",
    "        v_corr[f\"{position} {i}\"] = (position, i)\n",
    "        g[f\"{position} {i}\"] = (\n",
    "            [\n",
    "                f\"{position-  BLOCK_SIZE} {i}\",\n",
    "                f\"{position} {i-  BLOCK_SIZE}\",\n",
    "                f\"{position+  BLOCK_SIZE} {i}\",\n",
    "                f\"{position} {i+ BLOCK_SIZE}\"\n",
    "            ]\n",
    "        )\n"
   ],
   "metadata": {
    "collapsed": false
   },
   "id": "ff3f16e32a937c5a"
  },
  {
   "cell_type": "code",
   "execution_count": null,
   "outputs": [],
   "source": [
    "h = 250\n",
    "v = 400"
   ],
   "metadata": {
    "collapsed": false
   },
   "id": "1d161d5249f53968"
  },
  {
   "cell_type": "code",
   "execution_count": null,
   "outputs": [],
   "source": [
    "# # Horizontal:\n",
    "add_line_horizontal((260 - h) * 2, (425 - h) * 2, (465 - v) * 2)  # 262, 466 - 427, 466 \n",
    "add_line_horizontal((645 - h) * 2, (835 - h) * 2, (465 - v) * 2)  # 642, 466 - 836, 466\n",
    "add_line_horizontal((260 - h) * 2, (835 - h) * 2, (485 - v) * 2)  # 262, 484 - 837, 484\n",
    "add_line_horizontal((260 - h) * 2, (835 - h) * 2, (485 - v) * 2)  # 262, 502 - 642, 502 \n",
    "add_line_horizontal((640 - h) * 2, (835 - h) * 2, (515 - v) * 2)  # 642, 515 - 836, 515\n",
    "add_line_horizontal((260 - h) * 2, (835 - h) * 2, (520 - v) * 2)  # 262, 522 - 836, 522\n",
    "add_line_horizontal((640 - h) * 2, (835 - h) * 2, (540 - v) * 2)  # 642, 543 - 836, 543\n",
    "add_line_horizontal((260 - h) * 2, (835 - h) * 2, (560 - v) * 2)  # 642, 562 - 836, 562\n",
    "add_line_horizontal((260 - h) * 2, (355 - h) * 2, (540 - v) * 2)  # 262, 540 - 355, 540\n",
    "add_line_horizontal((260 - h) * 2, (355 - h) * 2, (560 - v) * 2)  # 262, 560 - 355, 560\n",
    "add_line_horizontal((260 - h) * 2, (675 - h) * 2, (580 - v) * 2)  # 262, 580 - 675, 580\n",
    "add_line_horizontal((260 - h) * 2, (780 - h) * 2, (580 - v) * 2)  # 262, 592 - 782, 592\n",
    "add_line_horizontal((260 - h) * 2, (730 - h) * 2, (600 - v) * 2)  # 262, 603 - 725, 603 \n",
    "add_line_horizontal((260 - h) * 2, (730 - h) * 2, (615 - v) * 2)  # 262, 613 - 745, 613\n",
    "add_line_horizontal((260 - h) * 2, (730 - h) * 2, (625 - v) * 2)  # 262, 624 - 725, 624\n",
    "add_line_horizontal((260 - h) * 2, (730 - h) * 2, (640 - v) * 2)  # 262, 638 - 725, 638\n",
    "add_line_horizontal((260 - h) * 2, (730 - h) * 2, (655 - v) * 2)  # 262, 654 - 725, 654\n",
    "add_line_horizontal((470 - h) * 2, (480 - h) * 2, (530 - v) * 2)  # 468, 530 - 479, 530"
   ],
   "metadata": {
    "collapsed": false
   },
   "id": "198aec199aaffebb"
  },
  {
   "cell_type": "code",
   "execution_count": null,
   "outputs": [],
   "source": [
    "# Vertical:\n",
    "add_line_vertical((465 - v) * 2, (565 - v) * 2, (835 - h) * 2)  # 836, 466 - 836, 562\n",
    "add_line_vertical((465 - v) * 2, (485 - v) * 2, (780 - h) * 2)  # 782, 466 - 782, 484 \n",
    "add_line_vertical((515 - v) * 2, (585 - v) * 2, (780 - h) * 2)  # 782, 515 - 782, 592\n",
    "add_line_vertical((465 - v) * 2, (655 - v) * 2, (725 - h) * 2)  # 725, 466 - 725, 654\n",
    "add_line_vertical((525 - v) * 2, (655 - v) * 2, (675 - h) * 2)  # 675, 525 - 675, 654\n",
    "add_line_vertical((465 - v) * 2, (580 - v) * 2, (640 - h) * 2)  # 642, 466 - 642, 580\n",
    "add_line_vertical((580 - v) * 2, (655 - v) * 2, (620 - h) * 2)  # 618, 580 - 618, 654\n",
    "add_line_vertical((580 - v) * 2, (480 - v) * 2, (595 - h) * 2)  # 595, 580 - 595, 654\n",
    "add_line_vertical((485 - v) * 2, (480 - v) * 2, (565 - h) * 2)  # 563, 484 - 563, 654\n",
    "add_line_vertical((485 - v) * 2, (480 - v) * 2, (510 - h) * 2)  # 508, 484 - 508, 654\n",
    "add_line_vertical((485 - v) * 2, (530 - v) * 2, (480 - h) * 2)  # 479, 484 - 479, 530\n",
    "add_line_vertical((485 - v) * 2, (500 - v) * 2, (470 - h) * 2)  # 468, 484 - 468, 502 \n",
    "add_line_vertical((530 - v) * 2, (655 - v) * 2, (470 - h) * 2)  # 468, 530 - 468, 654\n",
    "add_line_vertical((465 - v) * 2, (520 - v) * 2, (425 - h) * 2)  # 427, 466 - 427, 522 \n",
    "add_line_vertical((580 - v) * 2, (655 - v) * 2, (425 - h) * 2)  # 427, 580 - 427, 654\n",
    "add_line_vertical((485 - v) * 2, (485 - v) * 2, (395 - h) * 2)  # 395, 484 - 395, 522 \n",
    "add_line_vertical((580 - v) * 2, (580 - v) * 2, (395 - h) * 2)  # 395, 580 - 395, 624\n",
    "add_line_vertical((465 - v) * 2, (625 - v) * 2, (390 - h) * 2)  # 390, 466 - 390, 624\n",
    "add_line_vertical((580 - v) * 2, (655 - v) * 2, (370 - h) * 2)  # 371, 580 - 371, 654\n",
    "add_line_vertical((580 - v) * 2, (655 - v) * 2, (365 - h) * 2)  # 365, 580 - 365, 654\n",
    "add_line_vertical((580 - v) * 2, (640 - v) * 2, (360 - h) * 2)  # 359, 580 - 359, 638\n",
    "add_line_vertical((520 - v) * 2, (640 - v) * 2, (355 - h) * 2)  # 354, 522 - 354, 638\n",
    "add_line_vertical((465 - v) * 2, (655 - v) * 2, (345 - h) * 2)  # 345, 466 - 345, 654\n",
    "add_line_vertical((465 - v) * 2, (655 - v) * 2, (260 - h) * 2)  # 262, 466 - 262, 654"
   ],
   "metadata": {
    "collapsed": false
   },
   "id": "c7392b3d39a85de8"
  },
  {
   "cell_type": "code",
   "execution_count": null,
   "outputs": [],
   "source": [
    "for k in g:\n",
    "    lst_to_remove = []\n",
    "    for l in range(4):\n",
    "        if g[k][l] not in g:\n",
    "            lst_to_remove.append(l)\n",
    "\n",
    "    for l in lst_to_remove[::-1]:\n",
    "        del g[k][l]"
   ],
   "metadata": {
    "collapsed": false
   },
   "id": "7dfe21488f82fe7b"
  },
  {
   "cell_type": "code",
   "execution_count": null,
   "outputs": [],
   "source": [
    "pygame.init()\n",
    "# Parameters\n",
    "w_width = 1200\n",
    "w_height = 600\n",
    "# Set up the drawing window, adjust the size\n",
    "screen = pygame.display.set_mode([w_width, w_height])\n",
    "\n",
    "# Set background\n",
    "screen.fill((255, 255, 255))\n",
    "\n",
    "ts = TaxiService(g)\n",
    "\n",
    "\n",
    "def draw(screen, v_cor, time):\n",
    "    text = pygame.font.Font(None, 48).render(f\"{time[0]:02d}:{time[1]:02d}\", True, (10, 10, 10), (255, 255, 255))\n",
    "    text_rect = text.get_rect()\n",
    "    text_rect.center = (100, 80)\n",
    "    screen.blit(text, text_rect)\n",
    "\n",
    "    for i, j in v_cor.values():\n",
    "        rect = pygame.Rect(i, j,  BLOCK_SIZE - 1,  BLOCK_SIZE - 1)\n",
    "        pygame.draw.rect(screen, (210, 210, 210), rect, 0)\n",
    "\n",
    "    for taxi in ts.taxis.values():\n",
    "        i, j = v_corr[taxi.current_vertex]\n",
    "        rect = pygame.Rect(i, j,  BLOCK_SIZE - 6,  BLOCK_SIZE - 6)\n",
    "        pygame.draw.rect(screen, (210, 150, 10), rect, 0)\n",
    "\n",
    "    for customer in ts.customers:\n",
    "        i, j = v_corr[customer.current_vertex]\n",
    "        rect = pygame.Rect(i + 5, j + 5,  BLOCK_SIZE - 6,  BLOCK_SIZE - 6)\n",
    "        pygame.draw.rect(screen, (100, 150, 10), rect, 0)\n",
    "\n",
    "    pygame.display.flip()\n",
    "\n",
    "draw(screen, v_corr, ts.time)\n",
    "running = True\n",
    "\n",
    "time_delay = 1\n",
    "timer_event = pygame.USEREVENT + 1\n",
    "pygame.time.set_timer(timer_event, time_delay)\n",
    "\n",
    "while running and ts.days < 3:\n",
    "    for event in pygame.event.get():\n",
    "        if ts.days >= 3:\n",
    "            running = False\n",
    "            pygame.quit()\n",
    "        \n",
    "        if event.type == QUIT:\n",
    "            running = False\n",
    "\n",
    "        if event.type == KEYDOWN:\n",
    "            if event.key == K_RIGHT:\n",
    "                ts.make_step()\n",
    "                draw(screen, v_corr, ts.time)\n",
    "\n",
    "        if event.type == timer_event:\n",
    "                ts.make_step()\n",
    "                draw(screen, v_corr, ts.time)\n",
    "    \n",
    "pygame.quit()"
   ],
   "metadata": {
    "collapsed": false
   },
   "id": "fe4e9a4f0fc6aef3"
  },
  {
   "cell_type": "code",
   "execution_count": null,
   "outputs": [],
   "source": [],
   "metadata": {
    "collapsed": false
   },
   "id": "1b567c0fddb52473"
  }
 ],
 "metadata": {
  "kernelspec": {
   "display_name": "Python 3",
   "language": "python",
   "name": "python3"
  },
  "language_info": {
   "codemirror_mode": {
    "name": "ipython",
    "version": 2
   },
   "file_extension": ".py",
   "mimetype": "text/x-python",
   "name": "python",
   "nbconvert_exporter": "python",
   "pygments_lexer": "ipython2",
   "version": "2.7.6"
  }
 },
 "nbformat": 4,
 "nbformat_minor": 5
}
