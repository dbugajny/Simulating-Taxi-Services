{
 "cells": [
  {
   "cell_type": "code",
   "execution_count": 2,
   "outputs": [
    {
     "name": "stdout",
     "output_type": "stream",
     "text": [
      "pygame 2.5.2 (SDL 2.28.3, Python 3.10.9)\n",
      "Hello from the pygame community. https://www.pygame.org/contribute.html\n"
     ]
    }
   ],
   "source": [
    "import pygame\n",
    "\n",
    "from pygame.locals import (\n",
    "    K_RIGHT,\n",
    "    KEYDOWN,\n",
    "    QUIT,\n",
    ")\n",
    "from taxi_service_model import TaxiService"
   ],
   "metadata": {
    "collapsed": false,
    "ExecuteTime": {
     "end_time": "2023-12-29T20:02:48.078559Z",
     "start_time": "2023-12-29T20:02:47.966673Z"
    }
   },
   "id": "848051e5f083bd93"
  },
  {
   "cell_type": "code",
   "execution_count": 3,
   "outputs": [],
   "source": [
    "v_corr = {}\n",
    "g = {}\n",
    "cnt = 0\n",
    "BLOCK_SIZE = 10\n",
    "\n",
    "def add_line_horizontal(line_start, line_end, position):\n",
    "    for i in range(line_start, line_end,  BLOCK_SIZE):\n",
    "        v_corr[f\"{i} {position}\"] = (i, position)\n",
    "        g[f\"{i} {position}\"] = (\n",
    "            [\n",
    "                f\"{i- BLOCK_SIZE} {position}\",\n",
    "                f\"{i} {position- BLOCK_SIZE}\",\n",
    "                f\"{i+ BLOCK_SIZE} {position}\",\n",
    "                f\"{i} {position+ BLOCK_SIZE}\"\n",
    "            ]\n",
    "        )\n",
    "\n",
    "\n",
    "def add_line_vertical(line_start, line_end, position):\n",
    "    for i in range(line_start, line_end,   BLOCK_SIZE):\n",
    "        v_corr[f\"{position} {i}\"] = (position, i)\n",
    "        g[f\"{position} {i}\"] = (\n",
    "            [\n",
    "                f\"{position-  BLOCK_SIZE} {i}\",\n",
    "                f\"{position} {i-  BLOCK_SIZE}\",\n",
    "                f\"{position+  BLOCK_SIZE} {i}\",\n",
    "                f\"{position} {i+ BLOCK_SIZE}\"\n",
    "            ]\n",
    "        )\n"
   ],
   "metadata": {
    "collapsed": false,
    "ExecuteTime": {
     "end_time": "2023-12-29T20:02:48.183522Z",
     "start_time": "2023-12-29T20:02:48.176510Z"
    }
   },
   "id": "ff3f16e32a937c5a"
  },
  {
   "cell_type": "code",
   "execution_count": 4,
   "outputs": [],
   "source": [
    "h = 250\n",
    "v = 400"
   ],
   "metadata": {
    "collapsed": false,
    "ExecuteTime": {
     "end_time": "2023-12-29T20:02:48.362368Z",
     "start_time": "2023-12-29T20:02:48.357358Z"
    }
   },
   "id": "1d161d5249f53968"
  },
  {
   "cell_type": "code",
   "execution_count": 5,
   "outputs": [],
   "source": [
    "# # Horizontal:\n",
    "add_line_horizontal((260 - h) * 2, (425 - h) * 2, (465 - v) * 2)  # 262, 466 - 427, 466 \n",
    "add_line_horizontal((645 - h) * 2, (835 - h) * 2, (465 - v) * 2)  # 642, 466 - 836, 466\n",
    "add_line_horizontal((260 - h) * 2, (835 - h) * 2, (485 - v) * 2)  # 262, 484 - 837, 484\n",
    "add_line_horizontal((260 - h) * 2, (835 - h) * 2, (485 - v) * 2)  # 262, 502 - 642, 502 \n",
    "add_line_horizontal((640 - h) * 2, (835 - h) * 2, (515 - v) * 2)  # 642, 515 - 836, 515\n",
    "add_line_horizontal((260 - h) * 2, (835 - h) * 2, (520 - v) * 2)  # 262, 522 - 836, 522\n",
    "add_line_horizontal((640 - h) * 2, (835 - h) * 2, (540 - v) * 2)  # 642, 543 - 836, 543\n",
    "add_line_horizontal((260 - h) * 2, (835 - h) * 2, (560 - v) * 2)  # 642, 562 - 836, 562\n",
    "add_line_horizontal((260 - h) * 2, (355 - h) * 2, (540 - v) * 2)  # 262, 540 - 355, 540\n",
    "add_line_horizontal((260 - h) * 2, (355 - h) * 2, (560 - v) * 2)  # 262, 560 - 355, 560\n",
    "add_line_horizontal((260 - h) * 2, (675 - h) * 2, (580 - v) * 2)  # 262, 580 - 675, 580\n",
    "add_line_horizontal((260 - h) * 2, (780 - h) * 2, (580 - v) * 2)  # 262, 592 - 782, 592\n",
    "add_line_horizontal((260 - h) * 2, (730 - h) * 2, (600 - v) * 2)  # 262, 603 - 725, 603 \n",
    "add_line_horizontal((260 - h) * 2, (730 - h) * 2, (615 - v) * 2)  # 262, 613 - 745, 613\n",
    "add_line_horizontal((260 - h) * 2, (730 - h) * 2, (625 - v) * 2)  # 262, 624 - 725, 624\n",
    "add_line_horizontal((260 - h) * 2, (730 - h) * 2, (640 - v) * 2)  # 262, 638 - 725, 638\n",
    "add_line_horizontal((260 - h) * 2, (730 - h) * 2, (655 - v) * 2)  # 262, 654 - 725, 654\n",
    "add_line_horizontal((470 - h) * 2, (480 - h) * 2, (530 - v) * 2)  # 468, 530 - 479, 530"
   ],
   "metadata": {
    "collapsed": false,
    "ExecuteTime": {
     "end_time": "2023-12-29T20:02:48.577301Z",
     "start_time": "2023-12-29T20:02:48.572264Z"
    }
   },
   "id": "198aec199aaffebb"
  },
  {
   "cell_type": "code",
   "execution_count": 6,
   "outputs": [],
   "source": [
    "# Vertical:\n",
    "add_line_vertical((465 - v) * 2, (565 - v) * 2, (835 - h) * 2)  # 836, 466 - 836, 562\n",
    "add_line_vertical((465 - v) * 2, (485 - v) * 2, (780 - h) * 2)  # 782, 466 - 782, 484 \n",
    "add_line_vertical((515 - v) * 2, (585 - v) * 2, (780 - h) * 2)  # 782, 515 - 782, 592\n",
    "add_line_vertical((465 - v) * 2, (655 - v) * 2, (725 - h) * 2)  # 725, 466 - 725, 654\n",
    "add_line_vertical((525 - v) * 2, (655 - v) * 2, (675 - h) * 2)  # 675, 525 - 675, 654\n",
    "add_line_vertical((465 - v) * 2, (580 - v) * 2, (640 - h) * 2)  # 642, 466 - 642, 580\n",
    "add_line_vertical((580 - v) * 2, (655 - v) * 2, (620 - h) * 2)  # 618, 580 - 618, 654\n",
    "add_line_vertical((580 - v) * 2, (480 - v) * 2, (595 - h) * 2)  # 595, 580 - 595, 654\n",
    "add_line_vertical((485 - v) * 2, (480 - v) * 2, (565 - h) * 2)  # 563, 484 - 563, 654\n",
    "add_line_vertical((485 - v) * 2, (480 - v) * 2, (510 - h) * 2)  # 508, 484 - 508, 654\n",
    "add_line_vertical((485 - v) * 2, (530 - v) * 2, (480 - h) * 2)  # 479, 484 - 479, 530\n",
    "add_line_vertical((485 - v) * 2, (500 - v) * 2, (470 - h) * 2)  # 468, 484 - 468, 502 \n",
    "add_line_vertical((530 - v) * 2, (655 - v) * 2, (470 - h) * 2)  # 468, 530 - 468, 654\n",
    "add_line_vertical((465 - v) * 2, (520 - v) * 2, (425 - h) * 2)  # 427, 466 - 427, 522 \n",
    "add_line_vertical((580 - v) * 2, (655 - v) * 2, (425 - h) * 2)  # 427, 580 - 427, 654\n",
    "add_line_vertical((485 - v) * 2, (485 - v) * 2, (395 - h) * 2)  # 395, 484 - 395, 522 \n",
    "add_line_vertical((580 - v) * 2, (580 - v) * 2, (395 - h) * 2)  # 395, 580 - 395, 624\n",
    "add_line_vertical((465 - v) * 2, (625 - v) * 2, (390 - h) * 2)  # 390, 466 - 390, 624\n",
    "add_line_vertical((580 - v) * 2, (655 - v) * 2, (370 - h) * 2)  # 371, 580 - 371, 654\n",
    "add_line_vertical((580 - v) * 2, (655 - v) * 2, (365 - h) * 2)  # 365, 580 - 365, 654\n",
    "add_line_vertical((580 - v) * 2, (640 - v) * 2, (360 - h) * 2)  # 359, 580 - 359, 638\n",
    "add_line_vertical((520 - v) * 2, (640 - v) * 2, (355 - h) * 2)  # 354, 522 - 354, 638\n",
    "add_line_vertical((465 - v) * 2, (655 - v) * 2, (345 - h) * 2)  # 345, 466 - 345, 654\n",
    "add_line_vertical((465 - v) * 2, (655 - v) * 2, (260 - h) * 2)  # 262, 466 - 262, 654"
   ],
   "metadata": {
    "collapsed": false,
    "ExecuteTime": {
     "end_time": "2023-12-29T20:02:48.763056Z",
     "start_time": "2023-12-29T20:02:48.753446Z"
    }
   },
   "id": "c7392b3d39a85de8"
  },
  {
   "cell_type": "code",
   "execution_count": 7,
   "outputs": [],
   "source": [
    "for k in g:\n",
    "    lst_to_remove = []\n",
    "    for l in range(4):\n",
    "        if g[k][l] not in g:\n",
    "            lst_to_remove.append(l)\n",
    "\n",
    "    for l in lst_to_remove[::-1]:\n",
    "        del g[k][l]"
   ],
   "metadata": {
    "collapsed": false,
    "ExecuteTime": {
     "end_time": "2023-12-29T20:02:49.030847Z",
     "start_time": "2023-12-29T20:02:49.027816Z"
    }
   },
   "id": "7dfe21488f82fe7b"
  },
  {
   "cell_type": "code",
   "execution_count": 8,
   "outputs": [
    {
     "name": "stdout",
     "output_type": "stream",
     "text": [
      "15\n",
      "30\n",
      "45\n",
      "60\n",
      "75\n",
      "90\n",
      "105\n",
      "120\n",
      "135\n",
      "150\n",
      "165\n",
      "180\n",
      "195\n",
      "210\n",
      "225\n",
      "240\n",
      "255\n",
      "270\n",
      "285\n",
      "300\n",
      "315\n",
      "330\n",
      "345\n",
      "360\n",
      "375\n",
      "390\n",
      "405\n",
      "420\n",
      "435\n",
      "450\n",
      "465\n",
      "480\n",
      "495\n",
      "510\n",
      "525\n",
      "540\n",
      "555\n",
      "570\n",
      "585\n",
      "600\n"
     ]
    },
    {
     "ename": "KeyboardInterrupt",
     "evalue": "",
     "output_type": "error",
     "traceback": [
      "\u001B[0;31m---------------------------------------------------------------------------\u001B[0m",
      "\u001B[0;31mKeyboardInterrupt\u001B[0m                         Traceback (most recent call last)",
      "Cell \u001B[0;32mIn[8], line 44\u001B[0m\n\u001B[1;32m     41\u001B[0m pygame\u001B[38;5;241m.\u001B[39mtime\u001B[38;5;241m.\u001B[39mset_timer(timer_event, time_delay)\n\u001B[1;32m     43\u001B[0m \u001B[38;5;28;01mwhile\u001B[39;00m running:\n\u001B[0;32m---> 44\u001B[0m     \u001B[38;5;28;01mfor\u001B[39;00m event \u001B[38;5;129;01min\u001B[39;00m \u001B[43mpygame\u001B[49m\u001B[38;5;241;43m.\u001B[39;49m\u001B[43mevent\u001B[49m\u001B[38;5;241;43m.\u001B[39;49m\u001B[43mget\u001B[49m\u001B[43m(\u001B[49m\u001B[43m)\u001B[49m:\n\u001B[1;32m     45\u001B[0m         \u001B[38;5;28;01mif\u001B[39;00m event\u001B[38;5;241m.\u001B[39mtype \u001B[38;5;241m==\u001B[39m QUIT:\n\u001B[1;32m     46\u001B[0m             running \u001B[38;5;241m=\u001B[39m \u001B[38;5;28;01mFalse\u001B[39;00m\n",
      "\u001B[0;31mKeyboardInterrupt\u001B[0m: "
     ]
    }
   ],
   "source": [
    "pygame.init()\n",
    "# Parameters\n",
    "w_width = 1200\n",
    "w_height = 600\n",
    "# Set up the drawing window, adjust the size\n",
    "screen = pygame.display.set_mode([w_width, w_height])\n",
    "\n",
    "# Set background\n",
    "screen.fill((255, 255, 255))\n",
    "\n",
    "ts = TaxiService(g)\n",
    "\n",
    "\n",
    "def draw(screen, v_cor, time):\n",
    "    text = pygame.font.Font(None, 48).render(f\"{time[0]:02d}:{time[1]:02d}\", True, (10, 10, 10), (255, 255, 255))\n",
    "    text_rect = text.get_rect()\n",
    "    text_rect.center = (100, 80)\n",
    "    screen.blit(text, text_rect)\n",
    "\n",
    "    for i, j in v_cor.values():\n",
    "        rect = pygame.Rect(i, j,  BLOCK_SIZE - 1,  BLOCK_SIZE - 1)\n",
    "        pygame.draw.rect(screen, (210, 210, 210), rect, 0)\n",
    "\n",
    "    for taxi in ts.taxis.values():\n",
    "        i, j = v_corr[taxi.current_vertex]\n",
    "        rect = pygame.Rect(i, j,  BLOCK_SIZE - 6,  BLOCK_SIZE - 6)\n",
    "        pygame.draw.rect(screen, (210, 150, 10), rect, 0)\n",
    "\n",
    "    for customer in ts.customers:\n",
    "        i, j = v_corr[customer.current_vertex]\n",
    "        rect = pygame.Rect(i + 5, j + 5,  BLOCK_SIZE - 6,  BLOCK_SIZE - 6)\n",
    "        pygame.draw.rect(screen, (100, 150, 10), rect, 0)\n",
    "\n",
    "    pygame.display.flip()\n",
    "\n",
    "draw(screen, v_corr, ts.time)\n",
    "running = True\n",
    "\n",
    "time_delay = 10\n",
    "timer_event = pygame.USEREVENT + 1\n",
    "pygame.time.set_timer(timer_event, time_delay)\n",
    "\n",
    "while running:\n",
    "    for event in pygame.event.get():\n",
    "        if event.type == QUIT:\n",
    "            running = False\n",
    "\n",
    "        if event.type == KEYDOWN:\n",
    "            if event.key == K_RIGHT:\n",
    "                ts.make_step()\n",
    "                draw(screen, v_corr, ts.time)\n",
    "\n",
    "        if event.type == timer_event:\n",
    "                ts.make_step()\n",
    "                draw(screen, v_corr, ts.time)\n",
    "    \n",
    "pygame.quit()"
   ],
   "metadata": {
    "collapsed": false,
    "ExecuteTime": {
     "end_time": "2023-12-29T20:03:18.506454Z",
     "start_time": "2023-12-29T20:02:49.331963Z"
    }
   },
   "id": "fe4e9a4f0fc6aef3"
  },
  {
   "cell_type": "code",
   "execution_count": 11,
   "outputs": [
    {
     "data": {
      "text/plain": "7200"
     },
     "execution_count": 11,
     "metadata": {},
     "output_type": "execute_result"
    }
   ],
   "source": [
    "15 * 60 * 8"
   ],
   "metadata": {
    "collapsed": false,
    "ExecuteTime": {
     "end_time": "2023-12-29T19:59:12.612919Z",
     "start_time": "2023-12-29T19:59:12.601750Z"
    }
   },
   "id": "6293b1e185a27da9"
  },
  {
   "cell_type": "code",
   "execution_count": null,
   "outputs": [],
   "source": [
    "8205"
   ],
   "metadata": {
    "collapsed": false
   },
   "id": "b2f22fdb252d4c37"
  },
  {
   "cell_type": "code",
   "execution_count": 9,
   "outputs": [
    {
     "data": {
      "text/plain": "{}"
     },
     "execution_count": 9,
     "metadata": {},
     "output_type": "execute_result"
    }
   ],
   "source": [
    "ts.taxis"
   ],
   "metadata": {
    "collapsed": false,
    "ExecuteTime": {
     "end_time": "2023-12-29T19:57:24.692771Z",
     "start_time": "2023-12-29T19:57:24.685235Z"
    }
   },
   "id": "85ffb62914d009b8"
  },
  {
   "cell_type": "code",
   "execution_count": 21,
   "outputs": [
    {
     "data": {
      "text/plain": "42465"
     },
     "execution_count": 21,
     "metadata": {},
     "output_type": "execute_result"
    }
   ],
   "source": [
    "ts.taxis[\"1\"].working_time"
   ],
   "metadata": {
    "collapsed": false,
    "ExecuteTime": {
     "end_time": "2023-12-29T19:44:20.460319Z",
     "start_time": "2023-12-29T19:44:20.454593Z"
    }
   },
   "id": "649fb60382a310f0"
  },
  {
   "cell_type": "code",
   "execution_count": 10,
   "outputs": [],
   "source": [
    "from collections import defaultdict\n",
    "a = defaultdict(int)"
   ],
   "metadata": {
    "collapsed": false,
    "ExecuteTime": {
     "end_time": "2023-12-29T19:43:03.618685Z",
     "start_time": "2023-12-29T19:43:03.601701Z"
    }
   },
   "id": "e62971a55968297d"
  },
  {
   "cell_type": "code",
   "execution_count": 15,
   "outputs": [],
   "source": [
    "a[5] += a[5]"
   ],
   "metadata": {
    "collapsed": false,
    "ExecuteTime": {
     "end_time": "2023-12-29T19:43:41.966007Z",
     "start_time": "2023-12-29T19:43:41.962374Z"
    }
   },
   "id": "596999ae0079da74"
  },
  {
   "cell_type": "code",
   "execution_count": 17,
   "outputs": [
    {
     "data": {
      "text/plain": "dict_items([(0, 1), (4, 0), (5, 0)])"
     },
     "execution_count": 17,
     "metadata": {},
     "output_type": "execute_result"
    }
   ],
   "source": [
    "a.items()"
   ],
   "metadata": {
    "collapsed": false,
    "ExecuteTime": {
     "end_time": "2023-12-29T19:43:47.003852Z",
     "start_time": "2023-12-29T19:43:46.999258Z"
    }
   },
   "id": "642b9d32d18dd7fd"
  },
  {
   "cell_type": "code",
   "execution_count": null,
   "outputs": [],
   "source": [],
   "metadata": {
    "collapsed": false
   },
   "id": "9097d1ffe5511eef"
  }
 ],
 "metadata": {
  "kernelspec": {
   "display_name": "Python 3",
   "language": "python",
   "name": "python3"
  },
  "language_info": {
   "codemirror_mode": {
    "name": "ipython",
    "version": 2
   },
   "file_extension": ".py",
   "mimetype": "text/x-python",
   "name": "python",
   "nbconvert_exporter": "python",
   "pygments_lexer": "ipython2",
   "version": "2.7.6"
  }
 },
 "nbformat": 4,
 "nbformat_minor": 5
}
